{
 "cells": [
  {
   "cell_type": "code",
   "execution_count": null,
   "id": "dffe70be",
   "metadata": {},
   "outputs": [],
   "source": [
    "list = [12,15,14,156,78,46]\n",
    "a = int(input(\"enter a number\"))\n",
    "b = int(input(\"enter a number\"))\n",
    "c = int(input(\"enter a number\"))\n",
    "for i in list:\n",
    "    if (list [i] == a and list [i] == b and list [i] == c):\n",
    "        print(a,b,c)\n",
    "        i = i+1\n",
    "        break"
   ]
  },
  {
   "cell_type": "code",
   "execution_count": null,
   "id": "b8338592",
   "metadata": {},
   "outputs": [],
   "source": [
    "list = [12,15,14,156,78,46]\n",
    "a = int(input(\"enter a number\"))\n",
    "b = int(input(\"enter a number\"))\n",
    "c = int(input(\"enter a number\"))\n",
    "for i in enumerate(list):\n",
    "    if (enumerate(list) == a and enumerate(list) == b and enumerate(list) == c):\n",
    "        print(i)\n",
    "        "
   ]
  },
  {
   "cell_type": "code",
   "execution_count": null,
   "id": "06d1d5ed",
   "metadata": {},
   "outputs": [],
   "source": []
  }
 ],
 "metadata": {
  "kernelspec": {
   "display_name": "Python 3 (ipykernel)",
   "language": "python",
   "name": "python3"
  },
  "language_info": {
   "codemirror_mode": {
    "name": "ipython",
    "version": 3
   },
   "file_extension": ".py",
   "mimetype": "text/x-python",
   "name": "python",
   "nbconvert_exporter": "python",
   "pygments_lexer": "ipython3",
   "version": "3.10.9"
  }
 },
 "nbformat": 4,
 "nbformat_minor": 5
}
