{
 "cells": [
  {
   "cell_type": "code",
   "execution_count": 38,
   "id": "2d39b3ee",
   "metadata": {},
   "outputs": [
    {
     "name": "stdout",
     "output_type": "stream",
     "text": [
      "enter a number:2\n"
     ]
    }
   ],
   "source": [
    "def Prime(a):\n",
    "    if a > 1:\n",
    "        for j in range(2,int(a/2)+1):\n",
    "            if (a % j) == 0:\n",
    "                print(\"not prime\")\n",
    "                break;\n",
    "            else:\n",
    "                print(\"is prime\")\n",
    "                break;\n",
    "    else:\n",
    "        print(\"is not prime\")\n",
    "        \n",
    "\n",
    "a = int(input(\"enter a number:\"))\n",
    "Prime(a)"
   ]
  },
  {
   "cell_type": "code",
   "execution_count": 41,
   "id": "cb06eab5",
   "metadata": {},
   "outputs": [
    {
     "name": "stdout",
     "output_type": "stream",
     "text": [
      "enter the number7\n",
      "it is prime\n"
     ]
    }
   ],
   "source": [
    "a=int(input(\"enter the number\"))\n",
    "count=0\n",
    "i=2\n",
    "\n",
    "while(i<a):\n",
    "    if(a%i== 0):\n",
    "        count=count+1\n",
    "        break\n",
    "    i=i+1\n",
    "    \n",
    "    \n",
    "if(count==1):\n",
    "    print(\"it is composite\")\n",
    "else:\n",
    "    print(\"it is prime\")\n",
    "\n",
    "\n"
   ]
  },
  {
   "cell_type": "code",
   "execution_count": 44,
   "id": "624d4414",
   "metadata": {},
   "outputs": [
    {
     "name": "stdout",
     "output_type": "stream",
     "text": [
      "0 9\n",
      "1 8\n",
      "2 7\n",
      "3 6\n"
     ]
    }
   ],
   "source": [
    "list=[9,8,7,6]\n",
    "for i,value in  enumerate(list):\n",
    "    print(i,value)"
   ]
  },
  {
   "cell_type": "code",
   "execution_count": null,
   "id": "3e519db6",
   "metadata": {},
   "outputs": [],
   "source": [
    "\n"
   ]
  }
 ],
 "metadata": {
  "kernelspec": {
   "display_name": "Python 3 (ipykernel)",
   "language": "python",
   "name": "python3"
  },
  "language_info": {
   "codemirror_mode": {
    "name": "ipython",
    "version": 3
   },
   "file_extension": ".py",
   "mimetype": "text/x-python",
   "name": "python",
   "nbconvert_exporter": "python",
   "pygments_lexer": "ipython3",
   "version": "3.10.9"
  }
 },
 "nbformat": 4,
 "nbformat_minor": 5
}
