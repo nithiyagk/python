{
 "cells": [
  {
   "cell_type": "code",
   "execution_count": 1,
   "id": "9de8ddd1",
   "metadata": {},
   "outputs": [
    {
     "name": "stdout",
     "output_type": "stream",
     "text": [
      "Hello!!! Welcome to the Deposit & Withdrawal Machine\n",
      "Enter amount to be Deposited: 15000\n",
      "\n",
      " Amount Deposited: 15000.0\n",
      "Enter amount to be Withdrawn: 6000\n",
      "\n",
      " You Withdrew: 6000.0\n",
      "\n",
      " Net Available Balance= 9000.0\n"
     ]
    }
   ],
   "source": [
    "# Python program to create Bankaccount class\n",
    "# with both a deposit() and a withdraw() function\n",
    "class Bank_Account:\n",
    "    def __init__(self):\n",
    "        self.balance=0\n",
    "        print(\"Hello!!! Welcome to the Deposit & Withdrawal Machine\")\n",
    " \n",
    "    def deposit(self):\n",
    "        amount=float(input(\"Enter amount to be Deposited: \"))\n",
    "        self.balance += amount\n",
    "        print(\"\\n Amount Deposited:\",amount)\n",
    " \n",
    "    def withdraw(self):\n",
    "        amount = float(input(\"Enter amount to be Withdrawn: \"))\n",
    "        if self.balance>=amount:\n",
    "            self.balance-=amount\n",
    "            print(\"\\n You Withdrew:\", amount)\n",
    "        else:\n",
    "            print(\"\\n Insufficient balance  \")\n",
    " \n",
    "    def display(self):\n",
    "        print(\"\\n Net Available Balance=\",self.balance)\n",
    " \n",
    "# Driver code\n",
    "  \n",
    "# creating an object of class\n",
    "s = Bank_Account()\n",
    "  \n",
    "# Calling functions with that class object\n",
    "s.deposit()\n",
    "s.withdraw()\n",
    "s.display()\n"
   ]
  },
  {
   "cell_type": "code",
   "execution_count": null,
   "id": "9b377b97",
   "metadata": {},
   "outputs": [],
   "source": []
  }
 ],
 "metadata": {
  "kernelspec": {
   "display_name": "Python 3 (ipykernel)",
   "language": "python",
   "name": "python3"
  },
  "language_info": {
   "codemirror_mode": {
    "name": "ipython",
    "version": 3
   },
   "file_extension": ".py",
   "mimetype": "text/x-python",
   "name": "python",
   "nbconvert_exporter": "python",
   "pygments_lexer": "ipython3",
   "version": "3.10.9"
  }
 },
 "nbformat": 4,
 "nbformat_minor": 5
}
