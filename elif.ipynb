{
 "cells": [
  {
   "cell_type": "code",
   "execution_count": 1,
   "id": "a1c6d0d5",
   "metadata": {},
   "outputs": [],
   "source": [
    "# ELIF"
   ]
  },
  {
   "cell_type": "code",
   "execution_count": 8,
   "id": "e888a2b2",
   "metadata": {},
   "outputs": [],
   "source": [
    "# LOGICAL AND : EXAMPLE = a > b and b > a (HERE AND IS THE LOGICAL SYMBOL , IN C LANGUAGE WE USE \"&&\" AS LOGICAL AND )\n",
    "# LOGICAL OR : EXAMPLE = a < b or b > a (HERE OR IS THE LOGICAL SYMBOL , IN C LANGUAGE WE USE \"||\" AS LOGICAL OR )\n",
    "# LOGICAL NOT : EXAMPLE = not a (HERE NOT IS THE LOGICAL SYMBOL , IN C LANGUAGE WE USE \"!\" AS LOGICAL NOT)"
   ]
  },
  {
   "cell_type": "code",
   "execution_count": 9,
   "id": "94b91ac9",
   "metadata": {},
   "outputs": [],
   "source": [
    "# TO CHECK VOWEL OR NOT USING ELIF:"
   ]
  },
  {
   "cell_type": "code",
   "execution_count": 10,
   "id": "b31b99e2",
   "metadata": {},
   "outputs": [
    {
     "name": "stdout",
     "output_type": "stream",
     "text": [
      "ENTER A CHARACTER:A\n",
      "A\n",
      "IT IS A VOWEL\n"
     ]
    }
   ],
   "source": [
    "char = input(\"ENTER A CHARACTER:\")\n",
    "print(char)\n",
    "if (char == \"A\" or char == \"a\"):\n",
    "    print(\"IT IS A VOWEL\")\n",
    "elif (char == \"E\" or char == \"e\"):\n",
    "    print(\"IT IS A VOWEL\")\n",
    "elif (char == \"I\" or char == \"i\"):\n",
    "    print(\"IT IS A VOWEL\")    \n",
    "elif (char == \"O\" or char == \"o\"):\n",
    "    print(\"IT IS A VOWEL\")    \n",
    "elif (char == \"U\" or char == \"u\"):\n",
    "    print(\"IT IS A VOWEL\")    \n",
    "else:\n",
    "    print(\"IT IS NOT A VOWEL\")"
   ]
  },
  {
   "cell_type": "code",
   "execution_count": 11,
   "id": "e4a37105",
   "metadata": {},
   "outputs": [],
   "source": [
    "# MENU DRIVEN (CALCULATOR) USING ELIF:"
   ]
  },
  {
   "cell_type": "code",
   "execution_count": 14,
   "id": "4df14630",
   "metadata": {},
   "outputs": [
    {
     "name": "stdout",
     "output_type": "stream",
     "text": [
      "enter a number10\n",
      "enter a number15\n",
      "1.ADDITION(+ SYMBOL) \n",
      " 2.SUBTRACTION(- SYMBOL) \n",
      " 3.MULTIPLICATION(* SYMBOL) \n",
      " 4.DIVISION(/ SYMBOL)\n",
      "enter a option*\n",
      "the product is: 150\n"
     ]
    }
   ],
   "source": [
    "a = int(input(\"enter a number\"))\n",
    "b = int(input(\"enter a number\"))\n",
    "print(\"1.ADDITION(+ SYMBOL) \\n 2.SUBTRACTION(- SYMBOL) \\n 3.MULTIPLICATION(* SYMBOL) \\n 4.DIVISION(/ SYMBOL)\")\n",
    "char = input(\"enter a option\")\n",
    "if(char == \"+\"):\n",
    "    c = a + b\n",
    "    print(\"the sum is:\",c)\n",
    "    \n",
    "elif(char == \"-\"):\n",
    "    c = a - b\n",
    "    print(\"the difference is:\",c)\n",
    "elif(char == \"*\"):\n",
    "    c = a * b\n",
    "    print(\"the product is:\",c)\n",
    "elif(char == \"/\"):\n",
    "    c = a / b\n",
    "    print(\"the answer is:\",c)\n",
    "else:\n",
    "    print(\"ENTER A VALID OPTION\")\n",
    "\n"
   ]
  },
  {
   "cell_type": "code",
   "execution_count": 15,
   "id": "604abc51",
   "metadata": {},
   "outputs": [],
   "source": [
    "#STUDENT GRADE USING ELIF"
   ]
  },
  {
   "cell_type": "code",
   "execution_count": 2,
   "id": "7199c44e",
   "metadata": {},
   "outputs": [
    {
     "name": "stdout",
     "output_type": "stream",
     "text": [
      "ENTER THE 1ST SUBJECT MARK90\n",
      "ENTER THE 2ND SUBJECT MARK90\n",
      "ENTER THE 3RD SUBJECT MARK90\n",
      "ENTER THE 4TH SUBJECT MARK90\n",
      "ENTER THE 5TH SUBJECT MARK90\n",
      "GRADE B\n"
     ]
    }
   ],
   "source": [
    "m1 = int(input(\"ENTER THE 1ST SUBJECT MARK\"))\n",
    "m2 = int(input(\"ENTER THE 2ND SUBJECT MARK\"))\n",
    "m3 = int(input(\"ENTER THE 3RD SUBJECT MARK\"))\n",
    "m4 = int(input(\"ENTER THE 4TH SUBJECT MARK\"))\n",
    "m5 = int(input(\"ENTER THE 5TH SUBJECT MARK\"))\n",
    "total = m1+m2+m3+m4+m5\n",
    "avg = total/5\n",
    "if(avg>90):\n",
    "    print(\"GRADE A\")\n",
    "elif(avg>80 and avg<=90):\n",
    "    print(\"GRADE B\")\n",
    "elif(avg>70 and avg<=80):\n",
    "    print(\"GRADE C\")\n",
    "elif(avg>60 and avg<=70):\n",
    "    print(\"GRADE D\") \n",
    "elif(avg>50 and avg<=80):\n",
    "    print(\"GRADE E\")\n",
    "else:\n",
    "    print(\"GRADE F\")\n",
    "    "
   ]
  },
  {
   "cell_type": "code",
   "execution_count": null,
   "id": "8a1d5548",
   "metadata": {},
   "outputs": [],
   "source": []
  }
 ],
 "metadata": {
  "kernelspec": {
   "display_name": "Python 3 (ipykernel)",
   "language": "python",
   "name": "python3"
  },
  "language_info": {
   "codemirror_mode": {
    "name": "ipython",
    "version": 3
   },
   "file_extension": ".py",
   "mimetype": "text/x-python",
   "name": "python",
   "nbconvert_exporter": "python",
   "pygments_lexer": "ipython3",
   "version": "3.10.9"
  }
 },
 "nbformat": 4,
 "nbformat_minor": 5
}
