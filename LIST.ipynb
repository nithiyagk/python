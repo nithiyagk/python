{
 "cells": [
  {
   "cell_type": "code",
   "execution_count": 1,
   "id": "e13f96ed",
   "metadata": {},
   "outputs": [],
   "source": [
    "#LIST"
   ]
  },
  {
   "cell_type": "code",
   "execution_count": 2,
   "id": "37f9b17a",
   "metadata": {},
   "outputs": [],
   "source": [
    "list = [1 , 2 , 3, 4 , 5, 6 , 7, 8 ,9 ,10]"
   ]
  },
  {
   "cell_type": "code",
   "execution_count": 1,
   "id": "6c509b99",
   "metadata": {},
   "outputs": [
    {
     "data": {
      "text/plain": [
       "type"
      ]
     },
     "execution_count": 1,
     "metadata": {},
     "output_type": "execute_result"
    }
   ],
   "source": [
    "type(list)"
   ]
  },
  {
   "cell_type": "code",
   "execution_count": null,
   "id": "2c930952",
   "metadata": {},
   "outputs": [],
   "source": [
    "list2= ['poster ','presentation', 'is','done', 'by', 'vinodhini']"
   ]
  },
  {
   "cell_type": "code",
   "execution_count": 9,
   "id": "d973b2ca",
   "metadata": {},
   "outputs": [
    {
     "ename": "NameError",
     "evalue": "name 'list2' is not defined",
     "output_type": "error",
     "traceback": [
      "\u001b[1;31m---------------------------------------------------------------------------\u001b[0m",
      "\u001b[1;31mNameError\u001b[0m                                 Traceback (most recent call last)",
      "Cell \u001b[1;32mIn[9], line 1\u001b[0m\n\u001b[1;32m----> 1\u001b[0m \u001b[43mlist2\u001b[49m [\u001b[38;5;241m1\u001b[39m]\n",
      "\u001b[1;31mNameError\u001b[0m: name 'list2' is not defined"
     ]
    }
   ],
   "source": [
    "list2 [1]"
   ]
  },
  {
   "cell_type": "code",
   "execution_count": 3,
   "id": "6fd6833a",
   "metadata": {},
   "outputs": [
    {
     "data": {
      "text/plain": [
       "list[slice(None, 5, 2)]"
      ]
     },
     "execution_count": 3,
     "metadata": {},
     "output_type": "execute_result"
    }
   ],
   "source": [
    "list[:5:2]"
   ]
  },
  {
   "cell_type": "code",
   "execution_count": 10,
   "id": "26f05a4d",
   "metadata": {},
   "outputs": [],
   "source": [
    "list =[1,'khij',0,'suresh']"
   ]
  },
  {
   "cell_type": "code",
   "execution_count": 20,
   "id": "325866a1",
   "metadata": {},
   "outputs": [
    {
     "data": {
      "text/plain": [
       "'e'"
      ]
     },
     "execution_count": 20,
     "metadata": {},
     "output_type": "execute_result"
    }
   ],
   "source": [
    "list[-1][3]"
   ]
  },
  {
   "cell_type": "code",
   "execution_count": null,
   "id": "166da527",
   "metadata": {},
   "outputs": [],
   "source": []
  },
  {
   "cell_type": "code",
   "execution_count": 39,
   "id": "4023e239",
   "metadata": {},
   "outputs": [],
   "source": [
    "list1 = [1,5,2,['nithiya','vino',[32,'shadhana',63]]]"
   ]
  },
  {
   "cell_type": "code",
   "execution_count": 40,
   "id": "4d4e8ab8",
   "metadata": {},
   "outputs": [],
   "source": [
    "list1.insert(2,5)"
   ]
  },
  {
   "cell_type": "code",
   "execution_count": null,
   "id": "9f1be0ea",
   "metadata": {},
   "outputs": [],
   "source": [
    "# today"
   ]
  },
  {
   "cell_type": "code",
   "execution_count": null,
   "id": "af3097ff",
   "metadata": {},
   "outputs": [],
   "source": [
    "# 04.05.2023/THURSDAY"
   ]
  },
  {
   "cell_type": "code",
   "execution_count": 74,
   "id": "5e5fccfc",
   "metadata": {},
   "outputs": [],
   "source": [
    "# list"
   ]
  },
  {
   "cell_type": "code",
   "execution_count": 75,
   "id": "915587bb",
   "metadata": {},
   "outputs": [],
   "source": [
    "names = ['anusuya','ayesha','raseena','yuvasri','zummana']\n",
    "age = [18,15,16,19,20,22]\n",
    "fruit = ['apple','banana','dragon fruit','fig','gauva']\n",
    "place = ['pondy','delhi','goa','mumbai','kerala','america']"
   ]
  },
  {
   "cell_type": "code",
   "execution_count": null,
   "id": "420ff3a2",
   "metadata": {},
   "outputs": [],
   "source": []
  },
  {
   "cell_type": "code",
   "execution_count": 5,
   "id": "bdcb984c",
   "metadata": {},
   "outputs": [
    {
     "data": {
      "text/plain": [
       "list"
      ]
     },
     "execution_count": 5,
     "metadata": {},
     "output_type": "execute_result"
    }
   ],
   "source": [
    "type(names)"
   ]
  },
  {
   "cell_type": "code",
   "execution_count": null,
   "id": "7e533549",
   "metadata": {},
   "outputs": [],
   "source": [
    "#clear function is used to clear the list fully "
   ]
  },
  {
   "cell_type": "code",
   "execution_count": 6,
   "id": "4cd03587",
   "metadata": {},
   "outputs": [],
   "source": [
    "names.clear()"
   ]
  },
  {
   "cell_type": "code",
   "execution_count": 7,
   "id": "cda8b351",
   "metadata": {},
   "outputs": [
    {
     "name": "stdout",
     "output_type": "stream",
     "text": [
      "[]\n"
     ]
    }
   ],
   "source": [
    "print(names)"
   ]
  },
  {
   "cell_type": "code",
   "execution_count": 9,
   "id": "0edd2116",
   "metadata": {},
   "outputs": [],
   "source": [
    "# append function is used to add the values at the last position"
   ]
  },
  {
   "cell_type": "code",
   "execution_count": 11,
   "id": "b1631e03",
   "metadata": {},
   "outputs": [],
   "source": [
    "age.append(35)"
   ]
  },
  {
   "cell_type": "code",
   "execution_count": 12,
   "id": "6f613bfb",
   "metadata": {},
   "outputs": [
    {
     "name": "stdout",
     "output_type": "stream",
     "text": [
      "[18, 15, 16, 19, 20, 22, 35]\n"
     ]
    }
   ],
   "source": [
    "print(age)"
   ]
  },
  {
   "cell_type": "code",
   "execution_count": 13,
   "id": "78b7d64d",
   "metadata": {},
   "outputs": [],
   "source": [
    "# copy function returns the copy of the particular list"
   ]
  },
  {
   "cell_type": "code",
   "execution_count": 14,
   "id": "2de7583f",
   "metadata": {},
   "outputs": [
    {
     "data": {
      "text/plain": [
       "['apple', 'banana', 'dragon fruit', 'fig', 'gauva']"
      ]
     },
     "execution_count": 14,
     "metadata": {},
     "output_type": "execute_result"
    }
   ],
   "source": [
    "fruit.copy()"
   ]
  },
  {
   "cell_type": "code",
   "execution_count": 17,
   "id": "c80a5652",
   "metadata": {},
   "outputs": [],
   "source": [
    "fruit.append('apple')"
   ]
  },
  {
   "cell_type": "code",
   "execution_count": 18,
   "id": "e01b5bb8",
   "metadata": {},
   "outputs": [
    {
     "name": "stdout",
     "output_type": "stream",
     "text": [
      "['apple', 'banana', 'dragon fruit', 'fig', 'gauva', 'apple', 'apple']\n"
     ]
    }
   ],
   "source": [
    "print(fruit)"
   ]
  },
  {
   "cell_type": "code",
   "execution_count": 19,
   "id": "14a6f769",
   "metadata": {},
   "outputs": [],
   "source": [
    "# count function is used to count how many times the mentioned value reapeted"
   ]
  },
  {
   "cell_type": "code",
   "execution_count": 20,
   "id": "aac16c14",
   "metadata": {},
   "outputs": [
    {
     "data": {
      "text/plain": [
       "3"
      ]
     },
     "execution_count": 20,
     "metadata": {},
     "output_type": "execute_result"
    }
   ],
   "source": [
    "fruit.count('apple')"
   ]
  },
  {
   "cell_type": "code",
   "execution_count": 29,
   "id": "ba8d4334",
   "metadata": {},
   "outputs": [],
   "source": [
    "# extend function is used to extend the character  and string value it takes \n",
    "# only the srting and character value as input"
   ]
  },
  {
   "cell_type": "code",
   "execution_count": 27,
   "id": "a4479267",
   "metadata": {},
   "outputs": [],
   "source": [
    "place.extend('c')"
   ]
  },
  {
   "cell_type": "code",
   "execution_count": 28,
   "id": "84a5b1be",
   "metadata": {},
   "outputs": [
    {
     "name": "stdout",
     "output_type": "stream",
     "text": [
      "['pondy', 'delhi', 'goa', 'mumbai', 'kerala', 'america', 'm', 'a', 'd', 'u', 'r', 'a', 'i', 'c', 'h', 'e', 'n', 'n', 'a', 'i', 'c']\n"
     ]
    }
   ],
   "source": [
    "print(place)"
   ]
  },
  {
   "cell_type": "code",
   "execution_count": 33,
   "id": "e5715d3d",
   "metadata": {},
   "outputs": [],
   "source": [
    "# index function is used to return the index value of the particular object"
   ]
  },
  {
   "cell_type": "code",
   "execution_count": 34,
   "id": "77499679",
   "metadata": {},
   "outputs": [
    {
     "data": {
      "text/plain": [
       "3"
      ]
     },
     "execution_count": 34,
     "metadata": {},
     "output_type": "execute_result"
    }
   ],
   "source": [
    "fruit.index('fig')"
   ]
  },
  {
   "cell_type": "code",
   "execution_count": 37,
   "id": "251cccd7",
   "metadata": {},
   "outputs": [],
   "source": [
    "# insert function is used to insert the value at index u mention"
   ]
  },
  {
   "cell_type": "code",
   "execution_count": 38,
   "id": "af666f0f",
   "metadata": {},
   "outputs": [],
   "source": [
    "place.insert(1,'USA')"
   ]
  },
  {
   "cell_type": "code",
   "execution_count": 39,
   "id": "cf6faf94",
   "metadata": {},
   "outputs": [
    {
     "name": "stdout",
     "output_type": "stream",
     "text": [
      "['pondy', 'USA', 'USA', 'delhi', 'goa', 'mumbai', 'kerala', 'america', 'm', 'a', 'd', 'u', 'r', 'a', 'i', 'c', 'h', 'e', 'n', 'n', 'a', 'i', 'c']\n"
     ]
    }
   ],
   "source": [
    "print(place)"
   ]
  },
  {
   "cell_type": "code",
   "execution_count": 44,
   "id": "b5a3a963",
   "metadata": {},
   "outputs": [],
   "source": [
    "# pop function is used to remove and return the value of the mentioned index"
   ]
  },
  {
   "cell_type": "code",
   "execution_count": 47,
   "id": "aa9401a5",
   "metadata": {},
   "outputs": [
    {
     "data": {
      "text/plain": [
       "'yuvasri'"
      ]
     },
     "execution_count": 47,
     "metadata": {},
     "output_type": "execute_result"
    }
   ],
   "source": [
    "names.pop(-1)"
   ]
  },
  {
   "cell_type": "code",
   "execution_count": 48,
   "id": "a5be3657",
   "metadata": {},
   "outputs": [
    {
     "name": "stdout",
     "output_type": "stream",
     "text": [
      "['anusuya']\n"
     ]
    }
   ],
   "source": [
    "print(names)"
   ]
  },
  {
   "cell_type": "code",
   "execution_count": 55,
   "id": "95e656ac",
   "metadata": {},
   "outputs": [],
   "source": [
    "# remove function is used to remove the value from the list"
   ]
  },
  {
   "cell_type": "code",
   "execution_count": 58,
   "id": "a88ad6a7",
   "metadata": {},
   "outputs": [],
   "source": [
    "fruit.remove('apple')"
   ]
  },
  {
   "cell_type": "code",
   "execution_count": 59,
   "id": "8247d838",
   "metadata": {},
   "outputs": [
    {
     "name": "stdout",
     "output_type": "stream",
     "text": [
      "['dragon fruit', 'gauva', 'apple']\n"
     ]
    }
   ],
   "source": [
    "print(fruit)"
   ]
  },
  {
   "cell_type": "code",
   "execution_count": 62,
   "id": "49ce9772",
   "metadata": {},
   "outputs": [],
   "source": [
    "# reverse function is used to reverse the list "
   ]
  },
  {
   "cell_type": "code",
   "execution_count": 66,
   "id": "d0029f0f",
   "metadata": {},
   "outputs": [],
   "source": [
    "place.reverse()"
   ]
  },
  {
   "cell_type": "code",
   "execution_count": 67,
   "id": "8b4c94d7",
   "metadata": {},
   "outputs": [
    {
     "name": "stdout",
     "output_type": "stream",
     "text": [
      "['c', 'i', 'a', 'n', 'n', 'e', 'h', 'c', 'i', 'a', 'r', 'u', 'd', 'a', 'm', 'america', 'kerala', 'mumbai', 'goa', 'delhi', 'USA', 'USA', 'pondy']\n"
     ]
    }
   ],
   "source": [
    "print(place)"
   ]
  },
  {
   "cell_type": "code",
   "execution_count": 68,
   "id": "edb5378a",
   "metadata": {},
   "outputs": [],
   "source": [
    "# sort function1"
   ]
  },
  {
   "cell_type": "code",
   "execution_count": 73,
   "id": "7c0a057a",
   "metadata": {},
   "outputs": [
    {
     "ename": "SyntaxError",
     "evalue": "invalid syntax (2904530000.py, line 1)",
     "output_type": "error",
     "traceback": [
      "\u001b[1;36m  Cell \u001b[1;32mIn[73], line 1\u001b[1;36m\u001b[0m\n\u001b[1;33m    age.sort(* , reverse = ascending)\u001b[0m\n\u001b[1;37m               ^\u001b[0m\n\u001b[1;31mSyntaxError\u001b[0m\u001b[1;31m:\u001b[0m invalid syntax\n"
     ]
    }
   ],
   "source": [
    "age.sort(* , reverse = ascending)"
   ]
  },
  {
   "cell_type": "code",
   "execution_count": 78,
   "id": "95088b02",
   "metadata": {},
   "outputs": [],
   "source": [
    "# slicing"
   ]
  },
  {
   "cell_type": "code",
   "execution_count": null,
   "id": "d46910cb",
   "metadata": {},
   "outputs": [],
   "source": [
    "names = ['anusuya','ayesha','raseena','yuvasri','zummana']\n",
    "age = [18,15,16,19,20,22]\n",
    "fruit = ['apple','banana','dragon fruit','fig','gauva']\n",
    "place = ['pondy','delhi','goa','mumbai','kerala','america']"
   ]
  },
  {
   "cell_type": "code",
   "execution_count": 81,
   "id": "30b934ab",
   "metadata": {},
   "outputs": [
    {
     "data": {
      "text/plain": [
       "['raseena', 'yuvasri', 'zummana']"
      ]
     },
     "execution_count": 81,
     "metadata": {},
     "output_type": "execute_result"
    }
   ],
   "source": [
    "names [2:]"
   ]
  },
  {
   "cell_type": "code",
   "execution_count": 82,
   "id": "9a965f48",
   "metadata": {},
   "outputs": [
    {
     "data": {
      "text/plain": [
       "['pondy', 'goa', 'kerala']"
      ]
     },
     "execution_count": 82,
     "metadata": {},
     "output_type": "execute_result"
    }
   ],
   "source": [
    "place[::2]"
   ]
  },
  {
   "cell_type": "code",
   "execution_count": 83,
   "id": "5d50c09c",
   "metadata": {},
   "outputs": [],
   "source": [
    "# nested list"
   ]
  },
  {
   "cell_type": "code",
   "execution_count": 87,
   "id": "0a455e13",
   "metadata": {},
   "outputs": [],
   "source": [
    "sam = ['anusuya','ayesha','raseena',18,15,16,19,20,['apple','banana','dragon fruit','fig',['pondy','delhi','goa','mumbai']]]"
   ]
  },
  {
   "cell_type": "code",
   "execution_count": 88,
   "id": "3c2b36ce",
   "metadata": {},
   "outputs": [
    {
     "data": {
      "text/plain": [
       "list"
      ]
     },
     "execution_count": 88,
     "metadata": {},
     "output_type": "execute_result"
    }
   ],
   "source": [
    "type(sam)"
   ]
  },
  {
   "cell_type": "code",
   "execution_count": 89,
   "id": "d121f692",
   "metadata": {},
   "outputs": [
    {
     "data": {
      "text/plain": [
       "['apple', 'banana', 'dragon fruit', 'fig', ['pondy', 'delhi', 'goa', 'mumbai']]"
      ]
     },
     "execution_count": 89,
     "metadata": {},
     "output_type": "execute_result"
    }
   ],
   "source": [
    "list[-1]"
   ]
  },
  {
   "cell_type": "code",
   "execution_count": 90,
   "id": "431cbe6f",
   "metadata": {},
   "outputs": [
    {
     "data": {
      "text/plain": [
       "['pondy', 'delhi', 'goa', 'mumbai']"
      ]
     },
     "execution_count": 90,
     "metadata": {},
     "output_type": "execute_result"
    }
   ],
   "source": [
    "list[-1][-1] # to print the inner list values use this"
   ]
  },
  {
   "cell_type": "code",
   "execution_count": 93,
   "id": "9f27b0f9",
   "metadata": {},
   "outputs": [
    {
     "data": {
      "text/plain": [
       "['pondy', 'goa']"
      ]
     },
     "execution_count": 93,
     "metadata": {},
     "output_type": "execute_result"
    }
   ],
   "source": [
    "list[-1][-1][::2]"
   ]
  },
  {
   "cell_type": "code",
   "execution_count": null,
   "id": "5680d811",
   "metadata": {},
   "outputs": [],
   "source": []
  }
 ],
 "metadata": {
  "kernelspec": {
   "display_name": "Python 3 (ipykernel)",
   "language": "python",
   "name": "python3"
  },
  "language_info": {
   "codemirror_mode": {
    "name": "ipython",
    "version": 3
   },
   "file_extension": ".py",
   "mimetype": "text/x-python",
   "name": "python",
   "nbconvert_exporter": "python",
   "pygments_lexer": "ipython3",
   "version": "3.10.9"
  }
 },
 "nbformat": 4,
 "nbformat_minor": 5
}
