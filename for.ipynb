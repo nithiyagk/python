{
 "cells": [
  {
   "cell_type": "code",
   "execution_count": 1,
   "id": "4d5c76cf",
   "metadata": {},
   "outputs": [
    {
     "name": "stdout",
     "output_type": "stream",
     "text": [
      "0\n",
      "2\n",
      "4\n",
      "6\n",
      "8\n"
     ]
    }
   ],
   "source": [
    "for i in range(0, 10, 2):\n",
    "    print(i)"
   ]
  },
  {
   "cell_type": "code",
   "execution_count": 2,
   "id": "4660ea86",
   "metadata": {},
   "outputs": [
    {
     "data": {
      "text/plain": [
       "'/'"
      ]
     },
     "execution_count": 2,
     "metadata": {},
     "output_type": "execute_result"
    }
   ],
   "source": [
    "\"/\""
   ]
  },
  {
   "cell_type": "code",
   "execution_count": 3,
   "id": "676a1cc0",
   "metadata": {},
   "outputs": [
    {
     "data": {
      "text/plain": [
       "'?'"
      ]
     },
     "execution_count": 3,
     "metadata": {},
     "output_type": "execute_result"
    }
   ],
   "source": [
    "\"?\""
   ]
  },
  {
   "cell_type": "code",
   "execution_count": 4,
   "id": "0e14d688",
   "metadata": {},
   "outputs": [
    {
     "name": "stdout",
     "output_type": "stream",
     "text": [
      "ent the ?\n"
     ]
    }
   ],
   "source": [
    "print(\"ent the ?\")"
   ]
  },
  {
   "cell_type": "code",
   "execution_count": null,
   "id": "9d899ba6",
   "metadata": {},
   "outputs": [],
   "source": [
    "a = int(input(\"enter a number:\"))"
   ]
  },
  {
   "cell_type": "code",
   "execution_count": null,
   "id": "cf9711a6",
   "metadata": {},
   "outputs": [],
   "source": [
    "number = [1, 2, 3, 4, 5]\n",
    "a = [x**2 for x in number]\n",
    "print(a)"
   ]
  },
  {
   "cell_type": "code",
   "execution_count": null,
   "id": "6744f916",
   "metadata": {},
   "outputs": [],
   "source": [
    "number = [1, 2, 3, 4, 5]\n",
    "a = [x**2 for x in number]\n",
    "print(a)"
   ]
  },
  {
   "cell_type": "code",
   "execution_count": null,
   "id": "621a437c",
   "metadata": {},
   "outputs": [],
   "source": [
    "number = [1, 2, 3, 4, 5]\n",
    "a = [x**2 for x in number]\n",
    "print(a)"
   ]
  },
  {
   "cell_type": "code",
   "execution_count": 1,
   "id": "fbd1ddb6",
   "metadata": {},
   "outputs": [],
   "source": [
    "#pattern"
   ]
  },
  {
   "cell_type": "code",
   "execution_count": 8,
   "id": "153d5dfa",
   "metadata": {},
   "outputs": [
    {
     "name": "stdout",
     "output_type": "stream",
     "text": [
      "1 \n",
      "2 2 \n",
      "3 3 3 \n",
      "4 4 4 4 \n"
     ]
    }
   ],
   "source": [
    "\n",
    "for i in range(1, 5):\n",
    "    for j in range(i):\n",
    "        print(i, end=' ')\n",
    "    print()"
   ]
  },
  {
   "cell_type": "code",
   "execution_count": 15,
   "id": "b211673c",
   "metadata": {},
   "outputs": [
    {
     "name": "stdout",
     "output_type": "stream",
     "text": [
      "1 \n",
      "2 2 \n",
      "3 3 3 \n",
      "4 4 4 4 \n"
     ]
    }
   ],
   "source": [
    "for i in range(1,5):\n",
    "    for j in range(i):\n",
    "        print(i, end=' ') \n",
    "    print()\n",
    "     "
   ]
  },
  {
   "cell_type": "code",
   "execution_count": null,
   "id": "ac1ef47a",
   "metadata": {},
   "outputs": [],
   "source": []
  },
  {
   "cell_type": "code",
   "execution_count": null,
   "id": "2e41339d",
   "metadata": {},
   "outputs": [],
   "source": []
  }
 ],
 "metadata": {
  "kernelspec": {
   "display_name": "Python 3 (ipykernel)",
   "language": "python",
   "name": "python3"
  },
  "language_info": {
   "codemirror_mode": {
    "name": "ipython",
    "version": 3
   },
   "file_extension": ".py",
   "mimetype": "text/x-python",
   "name": "python",
   "nbconvert_exporter": "python",
   "pygments_lexer": "ipython3",
   "version": "3.10.9"
  }
 },
 "nbformat": 4,
 "nbformat_minor": 5
}
