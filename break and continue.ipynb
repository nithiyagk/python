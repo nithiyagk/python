{
 "cells": [
  {
   "cell_type": "code",
   "execution_count": 5,
   "id": "0fbc4e4f",
   "metadata": {},
   "outputs": [
    {
     "name": "stdout",
     "output_type": "stream",
     "text": [
      "apple\n",
      "banana\n",
      "lemon\n",
      "orange\n",
      "pineapple\n"
     ]
    }
   ],
   "source": [
    "list = ['apple','banana','lemon','orange','pineapple']\n",
    "for i in list:\n",
    "    print(i)"
   ]
  },
  {
   "cell_type": "code",
   "execution_count": null,
   "id": "693100e0",
   "metadata": {},
   "outputs": [],
   "source": [
    "for i in len(2):\n",
    "    print(i)\n"
   ]
  },
  {
   "cell_type": "code",
   "execution_count": 9,
   "id": "8cc30183",
   "metadata": {},
   "outputs": [
    {
     "name": "stdout",
     "output_type": "stream",
     "text": [
      "5\n"
     ]
    }
   ],
   "source": [
    " a = len('apple')\n",
    "print(a)"
   ]
  },
  {
   "cell_type": "code",
   "execution_count": 11,
   "id": "2e8b063c",
   "metadata": {},
   "outputs": [
    {
     "name": "stdout",
     "output_type": "stream",
     "text": [
      "5\n"
     ]
    }
   ],
   "source": [
    " b = len (list)\n",
    "print(b)"
   ]
  },
  {
   "cell_type": "code",
   "execution_count": 14,
   "id": "b353304d",
   "metadata": {},
   "outputs": [],
   "source": [
    "x = [1,2,3,4,5,6,7,8,9,10]\n",
    "for i in x:\n",
    "    if i%2 == 0:\n",
    "        continue\n",
    "        print(i) "
   ]
  },
  {
   "cell_type": "code",
   "execution_count": 15,
   "id": "47489e37",
   "metadata": {},
   "outputs": [
    {
     "ename": "TypeError",
     "evalue": "'type' object is not iterable",
     "output_type": "error",
     "traceback": [
      "\u001b[1;31m---------------------------------------------------------------------------\u001b[0m",
      "\u001b[1;31mTypeError\u001b[0m                                 Traceback (most recent call last)",
      "Cell \u001b[1;32mIn[15], line 1\u001b[0m\n\u001b[1;32m----> 1\u001b[0m \u001b[38;5;28;01mfor\u001b[39;00m i \u001b[38;5;129;01min\u001b[39;00m \u001b[38;5;28menumerate\u001b[39m :\n\u001b[0;32m      2\u001b[0m     \u001b[38;5;28;01mif\u001b[39;00m (\u001b[38;5;28mlist\u001b[39m[i]\u001b[38;5;241m==\u001b[39ma \u001b[38;5;129;01mand\u001b[39;00m \u001b[38;5;28mlist\u001b[39m[i]\u001b[38;5;241m==\u001b[39mb \u001b[38;5;129;01mand\u001b[39;00m \u001b[38;5;28mlist\u001b[39m[i]\u001b[38;5;241m==\u001b[39mc):\n\u001b[0;32m      3\u001b[0m         \u001b[38;5;28mprint\u001b[39m(a,b,c)\n",
      "\u001b[1;31mTypeError\u001b[0m: 'type' object is not iterable"
     ]
    }
   ],
   "source": [
    "for i in enumerate :\n",
    "    if (list[i]==a and list[i]==b and list[i]==c):\n",
    "        print(a,b,c)\n",
    "        i=i+1\n",
    "        break"
   ]
  },
  {
   "cell_type": "code",
   "execution_count": null,
   "id": "4b22b90e",
   "metadata": {},
   "outputs": [],
   "source": [
    "list = [12,15,14,156,78,46]\n",
    "a = int(input(\"enter a number\"))\n",
    "b = int(input(\"enter a number\"))\n",
    "c = int(input(\"enter a number\"))"
   ]
  },
  {
   "cell_type": "code",
   "execution_count": null,
   "id": "10585f45",
   "metadata": {},
   "outputs": [],
   "source": [
    "list = [12,15,14,156,78,46]\n",
    "a = int(input(\"enter a number\"))\n",
    "b = int(input(\"enter a number\"))\n",
    "c = int(input(\"enter a number\"))"
   ]
  },
  {
   "cell_type": "code",
   "execution_count": null,
   "id": "9baa043d",
   "metadata": {},
   "outputs": [],
   "source": [
    "list = [12,15,14,156,78,46]\n",
    "a = int(input(\"enter a number\"))\n",
    "b = int(input(\"enter a number\"))\n",
    "c = int(input(\"enter a number\"))\n",
    "for i in list:\n",
    "    if (list [i] == a and list [i] == b and list [i] == c):\n",
    "        print(a,b,c)\n",
    "        i = i+1"
   ]
  },
  {
   "cell_type": "code",
   "execution_count": 7,
   "id": "2c4b7a20",
   "metadata": {},
   "outputs": [
    {
     "name": "stdout",
     "output_type": "stream",
     "text": [
      "my name is anu and my age is 14 my hobby is singing\n",
      "my name is ram and my age is 15 my hobby is sleeping\n",
      "my name is ravi and my age is 21 my hobby is reading\n",
      "my name is venugopal and my age is 23 my hobby is swimming\n",
      "my name is bharath and my age is 30 my hobby is coin collection\n",
      "my name is gougul and my age is 29 my hobby is cooking\n",
      "my name is vinodhini and my age is 12 my hobby is jogging\n"
     ]
    }
   ],
   "source": [
    "name = ['anu','ram','ravi','venugopal','bharath','gougul','vinodhini']\n",
    "age =[14,15,21,23,30,29,12,]\n",
    "hobby= ['singing','sleeping','reading','swimming','coin collection','cooking','jogging']\n",
    "for name , age ,hobby in zip(name,age,hobby):\n",
    "    print(\"my name is\",name,\"and my age is\",age,\"my hobby is\",hobby)"
   ]
  },
  {
   "cell_type": "code",
   "execution_count": 14,
   "id": "875f0ec0",
   "metadata": {},
   "outputs": [
    {
     "name": "stdout",
     "output_type": "stream",
     "text": [
      "(0, 'anu')\n",
      "(1, 'ram')\n",
      "(2, 'ravi')\n",
      "(3, 'venugopal')\n",
      "(4, 'bharath')\n",
      "(5, 'gougul')\n",
      "(6, 'vinodhini')\n"
     ]
    }
   ],
   "source": [
    "name=['anu','ram','ravi','venugopal','bharath','gougul','vinodhini']\n",
    "for i in enumerate (name):\n",
    "    print(i)"
   ]
  },
  {
   "cell_type": "code",
   "execution_count": 13,
   "id": "b58ee9f8",
   "metadata": {},
   "outputs": [
    {
     "name": "stdout",
     "output_type": "stream",
     "text": [
      "(0, 14)\n",
      "(1, 15)\n",
      "(2, 21)\n",
      "(3, 23)\n",
      "(4, 30)\n",
      "(5, 29)\n",
      "(6, 12)\n"
     ]
    }
   ],
   "source": [
    "a =[14,15,21,23,30,29,12,]\n",
    "for i in enumerate (a):\n",
    "    print(i)\n"
   ]
  },
  {
   "cell_type": "code",
   "execution_count": 17,
   "id": "fe7ab15c",
   "metadata": {},
   "outputs": [
    {
     "name": "stdout",
     "output_type": "stream",
     "text": [
      "1\n",
      "2\n",
      "3\n",
      "4\n",
      "5\n",
      "7\n",
      "8\n",
      "9\n",
      "10\n"
     ]
    }
   ],
   "source": [
    "# loop from 1 to 10\n",
    "for i in range(1, 11):\n",
    "   \n",
    "    # If i is equals to 6,  \n",
    "    # continue to next iteration  \n",
    "    # without printing \n",
    "    if i == 6:\n",
    "        continue\n",
    "    else:\n",
    "        # otherwise print the value\n",
    "        # of i\n",
    "        print(i)    \n",
    "    "
   ]
  },
  {
   "cell_type": "code",
   "execution_count": 12,
   "id": "bd1c87ac",
   "metadata": {},
   "outputs": [
    {
     "name": "stdout",
     "output_type": "stream",
     "text": [
      "1\n",
      "2\n",
      "3\n",
      "4\n",
      "5\n",
      "6\n"
     ]
    }
   ],
   "source": [
    "for i in range(1,10):\n",
    "    if (i>6):\n",
    "        break\n",
    "    else:\n",
    "        print(i)\n",
    "           \n",
    "\n",
    "             "
   ]
  },
  {
   "cell_type": "code",
   "execution_count": 13,
   "id": "cf55de84",
   "metadata": {},
   "outputs": [
    {
     "name": "stdout",
     "output_type": "stream",
     "text": [
      "1\n",
      "2\n",
      "3\n",
      "4\n"
     ]
    }
   ],
   "source": [
    "s={1,2,3,4,5}\n",
    "for i in s:\n",
    "    if(i==5):\n",
    "        break\n",
    "    print(i)"
   ]
  },
  {
   "cell_type": "code",
   "execution_count": null,
   "id": "1c7e7aee",
   "metadata": {},
   "outputs": [],
   "source": []
  }
 ],
 "metadata": {
  "kernelspec": {
   "display_name": "Python 3 (ipykernel)",
   "language": "python",
   "name": "python3"
  },
  "language_info": {
   "codemirror_mode": {
    "name": "ipython",
    "version": 3
   },
   "file_extension": ".py",
   "mimetype": "text/x-python",
   "name": "python",
   "nbconvert_exporter": "python",
   "pygments_lexer": "ipython3",
   "version": "3.10.9"
  }
 },
 "nbformat": 4,
 "nbformat_minor": 5
}
