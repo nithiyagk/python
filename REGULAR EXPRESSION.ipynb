{
 "cells": [
  {
   "cell_type": "code",
   "execution_count": null,
   "id": "9e1437e6",
   "metadata": {},
   "outputs": [],
   "source": [
    "# REFER JAVATPOINT \n",
    "# REGULAR EXPRESSION(pattern matching) is also called as regex or regxp .it is also reffered as rational expression.\n",
    "# it is used in all the languages \n",
    "# search as regular expression ipython notebook"
   ]
  },
  {
   "cell_type": "code",
   "execution_count": null,
   "id": "83d78972",
   "metadata": {},
   "outputs": [],
   "source": [
    "# diiferent type of character in :\n",
    "#1.metacharaters\n",
    "#2.quantifies\n",
    "#3.                                                                           \n",
    "#4."
   ]
  },
  {
   "cell_type": "code",
   "execution_count": null,
   "id": "a31f2641",
   "metadata": {},
   "outputs": [],
   "source": [
    "# example of 1\n",
    "import re\n",
    "txt = \"hello planets\"\n",
    "x = re.findall(\"^hello\",txt)\n",
    "if x:\n",
    "    print(\"YES,the string satrts with hello\")\n",
    "else:\n",
    "    print(\"NO MATCH\")"
   ]
  },
  {
   "cell_type": "code",
   "execution_count": null,
   "id": "fb547c33",
   "metadata": {},
   "outputs": [],
   "source": [
    "txt = \"hello ho rema welcome\"\n",
    "x  = re.findall(\"^h\",txt)\n",
    "if x:\n",
    "    print(\"the word starts with h\",x)\n",
    "else:\n",
    "    print(\"no match\")"
   ]
  },
  {
   "cell_type": "code",
   "execution_count": null,
   "id": "a9282dce",
   "metadata": {},
   "outputs": [],
   "source": [
    "# $ symbol is used to find the ending letter"
   ]
  },
  {
   "cell_type": "code",
   "execution_count": null,
   "id": "b1e470f0",
   "metadata": {},
   "outputs": [],
   "source": []
  }
 ],
 "metadata": {
  "kernelspec": {
   "display_name": "Python 3 (ipykernel)",
   "language": "python",
   "name": "python3"
  },
  "language_info": {
   "codemirror_mode": {
    "name": "ipython",
    "version": 3
   },
   "file_extension": ".py",
   "mimetype": "text/x-python",
   "name": "python",
   "nbconvert_exporter": "python",
   "pygments_lexer": "ipython3",
   "version": "3.10.9"
  }
 },
 "nbformat": 4,
 "nbformat_minor": 5
}
