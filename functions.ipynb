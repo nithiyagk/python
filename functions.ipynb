{
 "cells": [
  {
   "cell_type": "code",
   "execution_count": 1,
   "id": "45d97089",
   "metadata": {},
   "outputs": [],
   "source": [
    "# function"
   ]
  },
  {
   "cell_type": "code",
   "execution_count": 11,
   "id": "1b005fe7",
   "metadata": {},
   "outputs": [
    {
     "name": "stdout",
     "output_type": "stream",
     "text": [
      "enter a number:1\n",
      "enter a number:5\n",
      "6\n"
     ]
    }
   ],
   "source": [
    "a = int (input(\"enter a number:\"))\n",
    "b = int(input(\"enter a number:\"))\n",
    "def sum(a ,b):\n",
    "    c = a + b\n",
    "    return c\n",
    "d=sum(a,b)\n",
    "print(d)\n",
    "    "
   ]
  },
  {
   "cell_type": "code",
   "execution_count": 12,
   "id": "cb8a6c1f",
   "metadata": {},
   "outputs": [],
   "source": [
    "# sub"
   ]
  },
  {
   "cell_type": "code",
   "execution_count": 13,
   "id": "2db44573",
   "metadata": {},
   "outputs": [
    {
     "name": "stdout",
     "output_type": "stream",
     "text": [
      "enter a number:10\n",
      "enter a number:5\n",
      "5\n"
     ]
    }
   ],
   "source": [
    "a = int(input(\"enter a number:\"))\n",
    "b = int(input(\"enter a number:\"))\n",
    "def diff(a,b):\n",
    "    c = a - b\n",
    "    return c\n",
    "d = diff(a,b)\n",
    "print(d)"
   ]
  },
  {
   "cell_type": "code",
   "execution_count": 14,
   "id": "d11c7402",
   "metadata": {},
   "outputs": [],
   "source": [
    "# mul"
   ]
  },
  {
   "cell_type": "code",
   "execution_count": 15,
   "id": "85230e9d",
   "metadata": {},
   "outputs": [
    {
     "name": "stdout",
     "output_type": "stream",
     "text": [
      "enter a number:2\n",
      "enter a number:1\n",
      "2\n"
     ]
    }
   ],
   "source": [
    "a = int(input(\"enter a number:\"))\n",
    "b = int(input(\"enter a number:\"))\n",
    "def mul(a,b):\n",
    "    c = a * b\n",
    "    return c\n",
    "d = mul(a,b)\n",
    "print(d)"
   ]
  },
  {
   "cell_type": "code",
   "execution_count": 16,
   "id": "1731d73f",
   "metadata": {},
   "outputs": [],
   "source": [
    "# div"
   ]
  },
  {
   "cell_type": "code",
   "execution_count": 17,
   "id": "813246ab",
   "metadata": {},
   "outputs": [
    {
     "name": "stdout",
     "output_type": "stream",
     "text": [
      "enter a number:15\n",
      "enter a number:3\n",
      "5.0\n"
     ]
    }
   ],
   "source": [
    "a = int(input(\"enter a number:\"))\n",
    "b = int(input(\"enter a number:\"))\n",
    "\n",
    "d = div(a,b)\n",
    "print(d)"
   ]
  },
  {
   "cell_type": "code",
   "execution_count": 18,
   "id": "31e23ad9",
   "metadata": {},
   "outputs": [],
   "source": [
    "# modulo"
   ]
  },
  {
   "cell_type": "code",
   "execution_count": 21,
   "id": "0457577e",
   "metadata": {},
   "outputs": [
    {
     "name": "stdout",
     "output_type": "stream",
     "text": [
      "enter a number:15\n",
      "enter a number:5\n",
      "mod 0\n",
      "div 3.0\n"
     ]
    }
   ],
   "source": [
    "a = int(input(\"enter a number:\"))\n",
    "b = int(input(\"enter a number:\"))\n",
    "def mod (a,b):\n",
    "    c  = a % b\n",
    "    return c\n",
    "def div(a,b):\n",
    "    c = a / b\n",
    "    return c\n",
    "d = mod(a,b)\n",
    "e = div(a,b)\n",
    "print(\"mod\",d)\n",
    "print(\"div\",e)\n"
   ]
  },
  {
   "cell_type": "code",
   "execution_count": null,
   "id": "5f8a694e",
   "metadata": {},
   "outputs": [],
   "source": []
  }
 ],
 "metadata": {
  "kernelspec": {
   "display_name": "Python 3 (ipykernel)",
   "language": "python",
   "name": "python3"
  },
  "language_info": {
   "codemirror_mode": {
    "name": "ipython",
    "version": 3
   },
   "file_extension": ".py",
   "mimetype": "text/x-python",
   "name": "python",
   "nbconvert_exporter": "python",
   "pygments_lexer": "ipython3",
   "version": "3.10.9"
  }
 },
 "nbformat": 4,
 "nbformat_minor": 5
}
