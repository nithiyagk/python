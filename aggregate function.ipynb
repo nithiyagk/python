{
 "cells": [
  {
   "cell_type": "code",
   "execution_count": 16,
   "id": "eb871f63",
   "metadata": {},
   "outputs": [],
   "source": [
    "import numpy as np\n"
   ]
  },
  {
   "cell_type": "code",
   "execution_count": 17,
   "id": "facab35a",
   "metadata": {},
   "outputs": [
    {
     "data": {
      "text/plain": [
       "array([17, 36, 38, 42, 29, 11, 42, 25, 43, 44, 42, 40, 26, 28, 42, 30, 37,\n",
       "       13, 33, 46])"
      ]
     },
     "execution_count": 17,
     "metadata": {},
     "output_type": "execute_result"
    }
   ],
   "source": [
    "a = np.random.randint(10,50,20)\n",
    "a"
   ]
  },
  {
   "cell_type": "code",
   "execution_count": 18,
   "id": "7472e190",
   "metadata": {},
   "outputs": [
    {
     "data": {
      "text/plain": [
       "664"
      ]
     },
     "execution_count": 18,
     "metadata": {},
     "output_type": "execute_result"
    }
   ],
   "source": [
    "np.sum(a)"
   ]
  },
  {
   "cell_type": "code",
   "execution_count": 19,
   "id": "7f62a1ac",
   "metadata": {},
   "outputs": [
    {
     "data": {
      "text/plain": [
       "12"
      ]
     },
     "execution_count": 19,
     "metadata": {},
     "output_type": "execute_result"
    }
   ],
   "source": [
    "c = np.prod([[1,2],[2,3]])\n",
    "\n",
    "c"
   ]
  },
  {
   "cell_type": "code",
   "execution_count": 20,
   "id": "38452a41",
   "metadata": {},
   "outputs": [
    {
     "data": {
      "text/plain": [
       "19"
      ]
     },
     "execution_count": 20,
     "metadata": {},
     "output_type": "execute_result"
    }
   ],
   "source": [
    "np.argmax(a)"
   ]
  },
  {
   "cell_type": "code",
   "execution_count": 21,
   "id": "8272d009",
   "metadata": {},
   "outputs": [
    {
     "data": {
      "text/plain": [
       "array([76, 66, 58, 77, 60, 53, 55, 51, 60, 68])"
      ]
     },
     "execution_count": 21,
     "metadata": {},
     "output_type": "execute_result"
    }
   ],
   "source": [
    "b = np.random.randint(50,80,10)\n",
    "b"
   ]
  },
  {
   "cell_type": "code",
   "execution_count": 22,
   "id": "3ce39e40",
   "metadata": {},
   "outputs": [
    {
     "data": {
      "text/plain": [
       "77"
      ]
     },
     "execution_count": 22,
     "metadata": {},
     "output_type": "execute_result"
    }
   ],
   "source": [
    "np.max(b)"
   ]
  },
  {
   "cell_type": "code",
   "execution_count": 23,
   "id": "ea63d312",
   "metadata": {},
   "outputs": [
    {
     "data": {
      "text/plain": [
       "11"
      ]
     },
     "execution_count": 23,
     "metadata": {},
     "output_type": "execute_result"
    }
   ],
   "source": [
    "np.min(a)"
   ]
  },
  {
   "cell_type": "code",
   "execution_count": 24,
   "id": "aec84e60",
   "metadata": {},
   "outputs": [
    {
     "data": {
      "text/plain": [
       "7"
      ]
     },
     "execution_count": 24,
     "metadata": {},
     "output_type": "execute_result"
    }
   ],
   "source": [
    "np.argmin(b)"
   ]
  },
  {
   "cell_type": "code",
   "execution_count": 25,
   "id": "9e3fb671",
   "metadata": {},
   "outputs": [
    {
     "data": {
      "text/plain": [
       "3"
      ]
     },
     "execution_count": 25,
     "metadata": {},
     "output_type": "execute_result"
    }
   ],
   "source": [
    "np.argmax(b)# argmax and argmin returns only the index position of the element"
   ]
  },
  {
   "cell_type": "code",
   "execution_count": 26,
   "id": "ef163853",
   "metadata": {},
   "outputs": [
    {
     "data": {
      "text/plain": [
       "8.63944442658207"
      ]
     },
     "execution_count": 26,
     "metadata": {},
     "output_type": "execute_result"
    }
   ],
   "source": [
    "np.std(b) #Returns the standard deviation, a measure of the spread of a distribution,of the array elements. The standard deviation is computed for theflattened array by default, otherwise over the specified axis."
   ]
  },
  {
   "cell_type": "code",
   "execution_count": 27,
   "id": "4bd8ba86",
   "metadata": {},
   "outputs": [
    {
     "data": {
      "text/plain": [
       "74.64"
      ]
     },
     "execution_count": 27,
     "metadata": {},
     "output_type": "execute_result"
    }
   ],
   "source": [
    "np.var(b)#Returns the standard deviation, a measure of the spread of a distribution,of the array elements. The standard deviation is computed for theflattened array by default, otherwise over the specified axis."
   ]
  },
  {
   "cell_type": "code",
   "execution_count": 28,
   "id": "42913a1f",
   "metadata": {},
   "outputs": [
    {
     "data": {
      "text/plain": [
       "62.4"
      ]
     },
     "execution_count": 28,
     "metadata": {},
     "output_type": "execute_result"
    }
   ],
   "source": [
    "np.mean(b)# it is used to return the mean value"
   ]
  },
  {
   "cell_type": "code",
   "execution_count": 29,
   "id": "234f20cc",
   "metadata": {},
   "outputs": [
    {
     "name": "stdout",
     "output_type": "stream",
     "text": [
      "[76 66 58 77 60 53 55 51 60 68]\n"
     ]
    },
    {
     "data": {
      "text/plain": [
       "60.0"
      ]
     },
     "execution_count": 29,
     "metadata": {},
     "output_type": "execute_result"
    }
   ],
   "source": [
    "print(b)\n",
    "np.median(b) # returns the meadian value (ie.) the middle value of the array"
   ]
  },
  {
   "cell_type": "code",
   "execution_count": 30,
   "id": "71698d33",
   "metadata": {},
   "outputs": [
    {
     "data": {
      "text/plain": [
       "array([0, 1, 2, 3, 4, 5, 6, 7, 8, 9])"
      ]
     },
     "execution_count": 30,
     "metadata": {},
     "output_type": "execute_result"
    }
   ],
   "source": [
    "x = np.arange(10)\n",
    "x"
   ]
  },
  {
   "cell_type": "code",
   "execution_count": 31,
   "id": "76db183f",
   "metadata": {},
   "outputs": [
    {
     "data": {
      "text/plain": [
       "2"
      ]
     },
     "execution_count": 31,
     "metadata": {},
     "output_type": "execute_result"
    }
   ],
   "source": [
    "np.mod(10,4) # it is used to return the remainder of given  argument (the argument must be more or equal to two)"
   ]
  },
  {
   "cell_type": "code",
   "execution_count": 32,
   "id": "88abb180",
   "metadata": {},
   "outputs": [
    {
     "name": "stdout",
     "output_type": "stream",
     "text": [
      "[17 36 38 42 29 11 42 25 43 44 42 40 26 28 42 30 37 13 33 46]\n"
     ]
    },
    {
     "data": {
      "text/plain": [
       "46"
      ]
     },
     "execution_count": 32,
     "metadata": {},
     "output_type": "execute_result"
    }
   ],
   "source": [
    "print(a)\n",
    "np.amax(a)"
   ]
  },
  {
   "cell_type": "code",
   "execution_count": 33,
   "id": "6aba0821",
   "metadata": {},
   "outputs": [
    {
     "data": {
      "text/plain": [
       "11"
      ]
     },
     "execution_count": 33,
     "metadata": {},
     "output_type": "execute_result"
    }
   ],
   "source": [
    "np.amin(a)# it is also used to return the max o min value of the array"
   ]
  },
  {
   "cell_type": "code",
   "execution_count": 34,
   "id": "8a5fb003",
   "metadata": {},
   "outputs": [],
   "source": [
    "import numpy as np"
   ]
  },
  {
   "cell_type": "code",
   "execution_count": 35,
   "id": "1be74ebf",
   "metadata": {},
   "outputs": [
    {
     "data": {
      "text/plain": [
       "array([10, 11, 12, 13, 14, 15, 16, 17, 18, 19])"
      ]
     },
     "execution_count": 35,
     "metadata": {},
     "output_type": "execute_result"
    }
   ],
   "source": [
    "arr = np.arange(10,20)\n",
    "arr"
   ]
  },
  {
   "cell_type": "code",
   "execution_count": 36,
   "id": "3055d57e",
   "metadata": {},
   "outputs": [
    {
     "data": {
      "text/plain": [
       "(10,)"
      ]
     },
     "execution_count": 36,
     "metadata": {},
     "output_type": "execute_result"
    }
   ],
   "source": [
    "np.shape(arr)"
   ]
  },
  {
   "cell_type": "code",
   "execution_count": 37,
   "id": "ec4d1a76",
   "metadata": {},
   "outputs": [
    {
     "data": {
      "text/plain": [
       "array([[10, 11, 12, 13, 14],\n",
       "       [15, 16, 17, 18, 19]])"
      ]
     },
     "execution_count": 37,
     "metadata": {},
     "output_type": "execute_result"
    }
   ],
   "source": [
    "arr_2 = arr.reshape(2,5)\n",
    "arr_2"
   ]
  },
  {
   "cell_type": "code",
   "execution_count": 38,
   "id": "4a879e78",
   "metadata": {},
   "outputs": [
    {
     "data": {
      "text/plain": [
       "array([[10, 11, 12, 13, 14],\n",
       "       [15, 16, 17, 18, 19]])"
      ]
     },
     "execution_count": 38,
     "metadata": {},
     "output_type": "execute_result"
    }
   ],
   "source": [
    "arr_2[::]"
   ]
  },
  {
   "cell_type": "code",
   "execution_count": 39,
   "id": "07b80ee6",
   "metadata": {},
   "outputs": [
    {
     "data": {
      "text/plain": [
       "array([12, 13, 14])"
      ]
     },
     "execution_count": 39,
     "metadata": {},
     "output_type": "execute_result"
    }
   ],
   "source": [
    "arr_2[0,2:]"
   ]
  },
  {
   "cell_type": "code",
   "execution_count": 40,
   "id": "d2eae666",
   "metadata": {},
   "outputs": [
    {
     "data": {
      "text/plain": [
       "Generator(PCG64) at 0x18D59013680"
      ]
     },
     "execution_count": 40,
     "metadata": {},
     "output_type": "execute_result"
    }
   ],
   "source": [
    "import numpy as np\n",
    "rng = np. random.default_rng()\n",
    "rng"
   ]
  },
  {
   "cell_type": "code",
   "execution_count": 41,
   "id": "ad660140",
   "metadata": {},
   "outputs": [
    {
     "name": "stdout",
     "output_type": "stream",
     "text": [
      "1.73 s ± 58.2 ms per loop (mean ± std. dev. of 7 runs, 1 loop each)\n",
      "23.9 ms ± 2.38 ms per loop (mean ± std. dev. of 7 runs, 10 loops each)\n"
     ]
    }
   ],
   "source": [
    "big_array = rng.random(10000000)\n",
    "%timeit sum(big_array)# to check the time take for the particular function\n",
    "%timeit np.sum(big_array)"
   ]
  },
  {
   "cell_type": "code",
   "execution_count": 42,
   "id": "2671eff8",
   "metadata": {},
   "outputs": [],
   "source": [
    "# MULTIDIMENTIONAL AGGREGATE FUNCTION"
   ]
  },
  {
   "cell_type": "code",
   "execution_count": 43,
   "id": "0a9f6905",
   "metadata": {},
   "outputs": [
    {
     "data": {
      "text/plain": [
       "array([[0, 0, 1, 9],\n",
       "       [9, 1, 9, 7],\n",
       "       [0, 4, 1, 8]], dtype=int64)"
      ]
     },
     "execution_count": 43,
     "metadata": {},
     "output_type": "execute_result"
    }
   ],
   "source": [
    "M = rng.integers(0,10,(3,4))\n",
    "M"
   ]
  },
  {
   "cell_type": "code",
   "execution_count": 44,
   "id": "2c21a0c8",
   "metadata": {},
   "outputs": [
    {
     "data": {
      "text/plain": [
       "array([0, 0, 1, 7], dtype=int64)"
      ]
     },
     "execution_count": 44,
     "metadata": {},
     "output_type": "execute_result"
    }
   ],
   "source": [
    "M.min(axis=0)#column"
   ]
  },
  {
   "cell_type": "code",
   "execution_count": 45,
   "id": "428fd5fa",
   "metadata": {},
   "outputs": [
    {
     "data": {
      "text/plain": [
       "array([0, 1, 0], dtype=int64)"
      ]
     },
     "execution_count": 45,
     "metadata": {},
     "output_type": "execute_result"
    }
   ],
   "source": [
    "M.min(axis=1)#ROW"
   ]
  },
  {
   "cell_type": "code",
   "execution_count": 46,
   "id": "32ade1ce",
   "metadata": {},
   "outputs": [],
   "source": [
    "#OTHER AGGREGATE FUNCTIONS"
   ]
  },
  {
   "cell_type": "code",
   "execution_count": 47,
   "id": "c1cd2401",
   "metadata": {},
   "outputs": [
    {
     "ename": "NameError",
     "evalue": "name 'prod' is not defined",
     "output_type": "error",
     "traceback": [
      "\u001b[1;31m---------------------------------------------------------------------------\u001b[0m",
      "\u001b[1;31mNameError\u001b[0m                                 Traceback (most recent call last)",
      "Cell \u001b[1;32mIn[47], line 1\u001b[0m\n\u001b[1;32m----> 1\u001b[0m \u001b[38;5;28msum\u001b[39m,\u001b[43mprod\u001b[49m,mean,median ,argmax,argmin,\u001b[38;5;28mmin\u001b[39m,\u001b[38;5;28mmax\u001b[39m,std,var,percentile ,\u001b[38;5;28many\u001b[39m,\u001b[38;5;28mall\u001b[39m\n",
      "\u001b[1;31mNameError\u001b[0m: name 'prod' is not defined"
     ]
    }
   ],
   "source": [
    "sum,prod,mean,median ,argmax,argmin,min,max,std,var,percentile ,any,all"
   ]
  },
  {
   "cell_type": "code",
   "execution_count": null,
   "id": "c05b2f5f",
   "metadata": {},
   "outputs": [],
   "source": [
    "np.any(1,0)"
   ]
  },
  {
   "cell_type": "code",
   "execution_count": null,
   "id": "0e4279ac",
   "metadata": {},
   "outputs": [],
   "source": [
    "np.all(1,0)"
   ]
  },
  {
   "cell_type": "code",
   "execution_count": null,
   "id": "32c3e3de",
   "metadata": {},
   "outputs": [],
   "source": [
    "# COMPARISION OPERATOR"
   ]
  },
  {
   "cell_type": "code",
   "execution_count": null,
   "id": "76e2d566",
   "metadata": {},
   "outputs": [],
   "source": [
    "x = np.array([1,2,3,4,5])"
   ]
  },
  {
   "cell_type": "code",
   "execution_count": null,
   "id": "4e490646",
   "metadata": {},
   "outputs": [],
   "source": [
    " c =x<3\n",
    "print(c)\n",
    "type(c)"
   ]
  },
  {
   "cell_type": "code",
   "execution_count": null,
   "id": "58b34526",
   "metadata": {},
   "outputs": [],
   "source": [
    "x = np.array([[1,2,3,4,5],[6,7,8,9,10]])\n",
    "print(x)"
   ]
  },
  {
   "cell_type": "code",
   "execution_count": null,
   "id": "eebdda9d",
   "metadata": {},
   "outputs": [],
   "source": [
    "x>3"
   ]
  },
  {
   "cell_type": "code",
   "execution_count": null,
   "id": "6b203187",
   "metadata": {},
   "outputs": [],
   "source": [
    "x!=3"
   ]
  },
  {
   "cell_type": "code",
   "execution_count": null,
   "id": "f31cf5bf",
   "metadata": {},
   "outputs": [],
   "source": [
    "(2*x) == (x**2) # can also use np.equal ,np.less,np.greater,np.less_equal ,np.greater_equal"
   ]
  },
  {
   "cell_type": "code",
   "execution_count": null,
   "id": "a635ac1b",
   "metadata": {},
   "outputs": [],
   "source": [
    "rnd = np.random.default_rng(seed=1710)\n",
    "x =rng.integers(10,size=(3,4))\n",
    "x"
   ]
  },
  {
   "cell_type": "markdown",
   "id": "5c98e5e8",
   "metadata": {},
   "source": [
    "# it only checks the condition np.NaN is used to import NaN value"
   ]
  },
  {
   "cell_type": "code",
   "execution_count": null,
   "id": "908d9ed1",
   "metadata": {},
   "outputs": [],
   "source": [
    "d= np.count_nonzero\n",
    "d"
   ]
  },
  {
   "cell_type": "markdown",
   "id": "8683aaab",
   "metadata": {},
   "source": [
    "### 30.05.2023"
   ]
  },
  {
   "cell_type": "markdown",
   "id": "aa6a0e61",
   "metadata": {},
   "source": [
    "### BOOLEAN OPERATOR"
   ]
  },
  {
   "cell_type": "code",
   "execution_count": null,
   "id": "309747f6",
   "metadata": {},
   "outputs": [],
   "source": [
    "#mask---> amore powerfull pattern is used to boolean array as mask,to select pariticular subset of data ."
   ]
  },
  {
   "cell_type": "code",
   "execution_count": null,
   "id": "caf58977",
   "metadata": {},
   "outputs": [],
   "source": [
    "rnd = np.random.default_rng(seed=1710)\n",
    "rnd\n",
    "z =rng.integers(10,size=(3,4))\n",
    "z"
   ]
  },
  {
   "cell_type": "code",
   "execution_count": null,
   "id": "3f8cd7ed",
   "metadata": {},
   "outputs": [],
   "source": [
    "w = x<5\n",
    "print(w)"
   ]
  },
  {
   "cell_type": "code",
   "execution_count": null,
   "id": "e3514ddb",
   "metadata": {},
   "outputs": [],
   "source": [
    "c = x[x<6] #----> masking (made with help of indexing position so it named as masking)\n",
    "print(c)"
   ]
  },
  {
   "cell_type": "code",
   "execution_count": null,
   "id": "7b881b6c",
   "metadata": {},
   "outputs": [],
   "source": [
    "\n",
    "rainy = (ranifall_num>0)\n",
    "days = np.arange(365)\n",
    "summer = (day>172) & (days<262)\n",
    "print(\"median percip on rain days in 2015(mm)\",np.medium(rainfall_num[rainy]))\n",
    "print(\"median percip on non-summer rainy days(mm):\",np.median(rainfall_num[rainy & ~ summer]))"
   ]
  },
  {
   "cell_type": "code",
   "execution_count": null,
   "id": "ee7c9013",
   "metadata": {},
   "outputs": [],
   "source": [
    "# & ----> and  |-----> or \n"
   ]
  },
  {
   "cell_type": "code",
   "execution_count": 48,
   "id": "2580ccdb",
   "metadata": {},
   "outputs": [
    {
     "data": {
      "text/plain": [
       "(True, False)"
      ]
     },
     "execution_count": 48,
     "metadata": {},
     "output_type": "execute_result"
    }
   ],
   "source": [
    "bool(42), bool(0)"
   ]
  },
  {
   "cell_type": "code",
   "execution_count": 49,
   "id": "8e86c7a3",
   "metadata": {},
   "outputs": [
    {
     "data": {
      "text/plain": [
       "False"
      ]
     },
     "execution_count": 49,
     "metadata": {},
     "output_type": "execute_result"
    }
   ],
   "source": [
    "bool( 42 and 0)"
   ]
  },
  {
   "cell_type": "code",
   "execution_count": 50,
   "id": "2947ecba",
   "metadata": {},
   "outputs": [
    {
     "data": {
      "text/plain": [
       "True"
      ]
     },
     "execution_count": 50,
     "metadata": {},
     "output_type": "execute_result"
    }
   ],
   "source": [
    "bool(42 or 0)"
   ]
  },
  {
   "cell_type": "code",
   "execution_count": 51,
   "id": "d9da2277",
   "metadata": {},
   "outputs": [],
   "source": [
    "# bin()----> returns the binary value"
   ]
  },
  {
   "cell_type": "code",
   "execution_count": 52,
   "id": "e953e60f",
   "metadata": {},
   "outputs": [
    {
     "data": {
      "text/plain": [
       "'0b101'"
      ]
     },
     "execution_count": 52,
     "metadata": {},
     "output_type": "execute_result"
    }
   ],
   "source": [
    "bin(5)"
   ]
  },
  {
   "cell_type": "code",
   "execution_count": 53,
   "id": "c2f83f98",
   "metadata": {},
   "outputs": [
    {
     "data": {
      "text/plain": [
       "'0b101010'"
      ]
     },
     "execution_count": 53,
     "metadata": {},
     "output_type": "execute_result"
    }
   ],
   "source": [
    "bin(42 & 59)"
   ]
  },
  {
   "cell_type": "code",
   "execution_count": 54,
   "id": "1d5961ec",
   "metadata": {},
   "outputs": [
    {
     "data": {
      "text/plain": [
       "'0b101010'"
      ]
     },
     "execution_count": 54,
     "metadata": {},
     "output_type": "execute_result"
    }
   ],
   "source": [
    "bin(42 & 59)"
   ]
  },
  {
   "cell_type": "code",
   "execution_count": 55,
   "id": "1c249b59",
   "metadata": {},
   "outputs": [
    {
     "data": {
      "text/plain": [
       "'0b10001'"
      ]
     },
     "execution_count": 55,
     "metadata": {},
     "output_type": "execute_result"
    }
   ],
   "source": [
    "bin(42 ^ 59)"
   ]
  },
  {
   "cell_type": "code",
   "execution_count": 56,
   "id": "391a38ac",
   "metadata": {},
   "outputs": [
    {
     "name": "stdout",
     "output_type": "stream",
     "text": [
      "[ True False  True False  True False]\n"
     ]
    }
   ],
   "source": [
    "a = np.array([1,0,1,0,1,0], dtype=bool)\n",
    "b =np.array([1,0,1,0,1,0], dtype=bool)\n",
    "print( a |b)"
   ]
  },
  {
   "cell_type": "code",
   "execution_count": 57,
   "id": "1390f3b0",
   "metadata": {},
   "outputs": [
    {
     "name": "stdout",
     "output_type": "stream",
     "text": [
      "[0 1 2 3 4 5 6 7 8 9]\n"
     ]
    },
    {
     "data": {
      "text/plain": [
       "array([False, False, False, False, False, False,  True,  True, False,\n",
       "       False])"
      ]
     },
     "execution_count": 57,
     "metadata": {},
     "output_type": "execute_result"
    }
   ],
   "source": [
    "r = np.arange(10)\n",
    "print(r)\n",
    "(r>5) & (r<8)"
   ]
  },
  {
   "cell_type": "code",
   "execution_count": 58,
   "id": "633697f0",
   "metadata": {},
   "outputs": [],
   "source": [
    " ###FANCY INDEXING ----> also known as vectorized indexing in which we pass array of indices in place of single scalar."
   ]
  },
  {
   "cell_type": "code",
   "execution_count": 59,
   "id": "7d3698dc",
   "metadata": {},
   "outputs": [
    {
     "data": {
      "text/plain": [
       "array([78, 63, 95, 26, 14, 60, 78,  7, 11,  4], dtype=int64)"
      ]
     },
     "execution_count": 59,
     "metadata": {},
     "output_type": "execute_result"
    }
   ],
   "source": [
    "import numpy as np\n",
    "fg = np.random.default_rng(seed=1710)\n",
    "fg\n",
    "c = fg.integers(100,size = 10)\n",
    "c"
   ]
  },
  {
   "cell_type": "code",
   "execution_count": 60,
   "id": "bbee5a79",
   "metadata": {},
   "outputs": [
    {
     "data": {
      "text/plain": [
       "[26, 7, 95]"
      ]
     },
     "execution_count": 60,
     "metadata": {},
     "output_type": "execute_result"
    }
   ],
   "source": [
    " t =[c [3],c[7],c[2]]\n",
    "t"
   ]
  },
  {
   "cell_type": "code",
   "execution_count": 61,
   "id": "c78e9b3b",
   "metadata": {},
   "outputs": [
    {
     "data": {
      "text/plain": [
       "array([26,  7, 95], dtype=int64)"
      ]
     },
     "execution_count": 61,
     "metadata": {},
     "output_type": "execute_result"
    }
   ],
   "source": [
    "key = [3,7,2]\n",
    "c[key]"
   ]
  },
  {
   "cell_type": "code",
   "execution_count": 62,
   "id": "18b27f01",
   "metadata": {},
   "outputs": [
    {
     "name": "stdout",
     "output_type": "stream",
     "text": [
      "[[26 95]\n",
      " [60 78]]\n"
     ]
    },
    {
     "data": {
      "text/plain": [
       "numpy.ndarray"
      ]
     },
     "execution_count": 62,
     "metadata": {},
     "output_type": "execute_result"
    }
   ],
   "source": [
    "key = np.array([[3,2],[5,0]])\n",
    "d= c[key]\n",
    "print(d)\n",
    "type(d)"
   ]
  },
  {
   "cell_type": "code",
   "execution_count": 63,
   "id": "160121b1",
   "metadata": {},
   "outputs": [
    {
     "data": {
      "text/plain": [
       "array([[ 0,  1,  2,  3],\n",
       "       [ 4,  5,  6,  7],\n",
       "       [ 8,  9, 10, 11]])"
      ]
     },
     "execution_count": 63,
     "metadata": {},
     "output_type": "execute_result"
    }
   ],
   "source": [
    "v  = np.arange(12).reshape(3,4) \n",
    "v"
   ]
  },
  {
   "cell_type": "code",
   "execution_count": 64,
   "id": "43b7d986",
   "metadata": {},
   "outputs": [
    {
     "data": {
      "text/plain": [
       "array([ 2,  5, 11])"
      ]
     },
     "execution_count": 64,
     "metadata": {},
     "output_type": "execute_result"
    }
   ],
   "source": [
    "row  = np.array([0,1,2]) # see in the  form of row and column 1st is for row and second is for column \n",
    "col =  np.array([2,1,3])\n",
    "v [row,col]"
   ]
  },
  {
   "cell_type": "code",
   "execution_count": 65,
   "id": "b22ebbe3",
   "metadata": {},
   "outputs": [
    {
     "data": {
      "text/plain": [
       "array([[ 0,  1,  2,  3],\n",
       "       [ 4,  5,  6,  7],\n",
       "       [ 8,  9, 10, 11],\n",
       "       [12, 13, 14, 15]])"
      ]
     },
     "execution_count": 65,
     "metadata": {},
     "output_type": "execute_result"
    }
   ],
   "source": [
    "h = np.arange(16).reshape(4,4)\n",
    "h"
   ]
  },
  {
   "cell_type": "code",
   "execution_count": 66,
   "id": "1da65c91",
   "metadata": {},
   "outputs": [
    {
     "data": {
      "text/plain": [
       "array([ 0,  5, 10, 15])"
      ]
     },
     "execution_count": 66,
     "metadata": {},
     "output_type": "execute_result"
    }
   ],
   "source": [
    "row = np.array([0,1,2,3])\n",
    "col = np.array([0,1,2,3])\n",
    "h[row,col]"
   ]
  },
  {
   "cell_type": "code",
   "execution_count": 67,
   "id": "31568097",
   "metadata": {},
   "outputs": [
    {
     "data": {
      "text/plain": [
       "array([[ 0,  1,  2,  3],\n",
       "       [ 4,  5,  6,  7],\n",
       "       [ 8,  9, 10, 11]])"
      ]
     },
     "execution_count": 67,
     "metadata": {},
     "output_type": "execute_result"
    }
   ],
   "source": [
    "v  = np.arange(12).reshape(3,4) \n",
    "v"
   ]
  },
  {
   "cell_type": "code",
   "execution_count": 68,
   "id": "8fdf0e9f",
   "metadata": {},
   "outputs": [
    {
     "data": {
      "text/plain": [
       "array([ 2,  5, 11])"
      ]
     },
     "execution_count": 68,
     "metadata": {},
     "output_type": "execute_result"
    }
   ],
   "source": [
    "row  = np.array([0,1,2]) # see in the  form of row and column 1st is for row and second is for column \n",
    "col =  np.array([2,1,3])\n",
    "v [row,col]"
   ]
  },
  {
   "cell_type": "code",
   "execution_count": 69,
   "id": "9872eb3f",
   "metadata": {},
   "outputs": [
    {
     "data": {
      "text/plain": [
       "array([[ 2,  1,  3],\n",
       "       [ 6,  5,  7],\n",
       "       [10,  9, 11]])"
      ]
     },
     "execution_count": 69,
     "metadata": {},
     "output_type": "execute_result"
    }
   ],
   "source": [
    "v[row[:,np.newaxis],col]"
   ]
  },
  {
   "cell_type": "code",
   "execution_count": 70,
   "id": "e8b68825",
   "metadata": {},
   "outputs": [
    {
     "data": {
      "text/plain": [
       "array([[ 0,  1,  2,  3],\n",
       "       [ 4,  5,  6,  7],\n",
       "       [ 8,  9, 10, 11]])"
      ]
     },
     "execution_count": 70,
     "metadata": {},
     "output_type": "execute_result"
    }
   ],
   "source": [
    "v[row[:np.newaxis]]"
   ]
  },
  {
   "cell_type": "markdown",
   "id": "dd0206f8",
   "metadata": {},
   "source": [
    "### COMBINED INDEXING|"
   ]
  },
  {
   "cell_type": "code",
   "execution_count": 71,
   "id": "443e6818",
   "metadata": {},
   "outputs": [
    {
     "name": "stdout",
     "output_type": "stream",
     "text": [
      "[[ 0  1  2  3]\n",
      " [ 4  5  6  7]\n",
      " [ 8  9 10 11]]\n"
     ]
    }
   ],
   "source": [
    "print(v)"
   ]
  },
  {
   "cell_type": "code",
   "execution_count": 72,
   "id": "5faaf63c",
   "metadata": {},
   "outputs": [
    {
     "data": {
      "text/plain": [
       "array([10,  8,  9])"
      ]
     },
     "execution_count": 72,
     "metadata": {},
     "output_type": "execute_result"
    }
   ],
   "source": [
    "v[2,[2,0,1]]   "
   ]
  },
  {
   "cell_type": "code",
   "execution_count": 73,
   "id": "0ca7f46f",
   "metadata": {},
   "outputs": [
    {
     "data": {
      "text/plain": [
       "array([[[10, 20, 30, 40],\n",
       "        [ 1,  2,  3,  4],\n",
       "        [ 5,  6,  7, 10],\n",
       "        [15, 16, 17, 19]],\n",
       "\n",
       "       [[55, 56, 57, 58],\n",
       "        [41, 42, 43, 44],\n",
       "        [31, 32, 33, 34],\n",
       "        [21, 22, 23, 24]]])"
      ]
     },
     "execution_count": 73,
     "metadata": {},
     "output_type": "execute_result"
    }
   ],
   "source": [
    " arr= np.array([[[10,20,30,40],[1,2,3,4],[5,6,7,10],[15,16,17,19]],[[55,56,57,58],[41,42,43,44],[31,32,33,34],[21,22,23,24]]])\n",
    "arr"
   ]
  },
  {
   "cell_type": "code",
   "execution_count": 74,
   "id": "c64a5fbc",
   "metadata": {},
   "outputs": [
    {
     "data": {
      "text/plain": [
       "array([55, 42, 33, 24])"
      ]
     },
     "execution_count": 74,
     "metadata": {},
     "output_type": "execute_result"
    }
   ],
   "source": [
    "ch = np.array([1])\n",
    "row =np.array([0,1,2,3])\n",
    "col = np.array([0,1,2,3])\n",
    "arr_1 = arr[ch,row,col]\n",
    "arr_1"
   ]
  },
  {
   "cell_type": "code",
   "execution_count": 75,
   "id": "ffe4b83c",
   "metadata": {
    "scrolled": true
   },
   "outputs": [
    {
     "data": {
      "text/plain": [
       "array([10,  2,  7, 19])"
      ]
     },
     "execution_count": 75,
     "metadata": {},
     "output_type": "execute_result"
    }
   ],
   "source": [
    "ch = np.array([0])\n",
    "row =np.array([0,1,2,3])\n",
    "col = np.array([0,1,2,3])\n",
    "arr_2 = arr[ch,row,col]\n",
    "arr_2"
   ]
  },
  {
   "cell_type": "code",
   "execution_count": 76,
   "id": "f6adc766",
   "metadata": {},
   "outputs": [
    {
     "data": {
      "text/plain": [
       "array([ 0,  1,  2,  3,  4,  5,  6,  7,  8,  9, 10, 11, 12, 13, 14, 15, 16,\n",
       "       17, 18, 19, 20, 21, 22, 23, 24])"
      ]
     },
     "execution_count": 76,
     "metadata": {},
     "output_type": "execute_result"
    }
   ],
   "source": [
    "arr = np.arange(0,25)\n",
    "arr"
   ]
  },
  {
   "cell_type": "code",
   "execution_count": 77,
   "id": "3df3e60f",
   "metadata": {},
   "outputs": [
    {
     "data": {
      "text/plain": [
       "array([[ 0,  1,  2,  3,  4],\n",
       "       [ 5,  6,  7,  8,  9],\n",
       "       [10, 11, 12, 13, 14],\n",
       "       [15, 16, 17, 18, 19],\n",
       "       [20, 21, 22, 23, 24]])"
      ]
     },
     "execution_count": 77,
     "metadata": {},
     "output_type": "execute_result"
    }
   ],
   "source": [
    "arr_1 = arr.reshape(5,5)\n",
    "arr_1"
   ]
  },
  {
   "cell_type": "code",
   "execution_count": 79,
   "id": "7a1a7281",
   "metadata": {},
   "outputs": [
    {
     "name": "stdout",
     "output_type": "stream",
     "text": [
      "[[[10 20 30 40]\n",
      "  [ 1  2  3  4]\n",
      "  [ 5  6  7 10]\n",
      "  [15 16 17 19]]\n",
      "\n",
      " [[55 56 57 58]\n",
      "  [41 42 43 44]\n",
      "  [31 32 33 34]\n",
      "  [21 22 23 24]]\n",
      "\n",
      " [[50 51 52 53]\n",
      "  [60 61 62 63]\n",
      "  [70 71 72 73]\n",
      "  [85 86 87 88]]]\n"
     ]
    }
   ],
   "source": [
    "dis = np.array([[[10,20,30,40],[1,2,3,4],[5,6,7,10],[15,16,17,19]],[[55,56,57,58],[41,42,43,44],[31,32,33,34],[21,22,23,24]],[[50,51,52,53],[60,61,62,63],[70,71,72,73],[85,86,87,88]]])\n",
    "print(dis)    "
   ]
  },
  {
   "cell_type": "code",
   "execution_count": 83,
   "id": "c4864aa6",
   "metadata": {},
   "outputs": [
    {
     "name": "stdout",
     "output_type": "stream",
     "text": [
      "[50 61 72 88]\n"
     ]
    }
   ],
   "source": [
    "row = [0,1,2,3]\n",
    "col = [0,1,2,3]\n",
    "ch = [2]\n",
    "kite = dis [ch,row,col]\n",
    "print(kite)"
   ]
  },
  {
   "cell_type": "code",
   "execution_count": 89,
   "id": "fdc547e6",
   "metadata": {},
   "outputs": [
    {
     "name": "stdout",
     "output_type": "stream",
     "text": [
      "[10  2  7 19]\n"
     ]
    }
   ],
   "source": [
    "row = [0,1,2,3]\n",
    "col = [0,1,2,3]\n",
    "ch = [0]\n",
    "kite = dis [ch,row,col]\n",
    "print(kite)"
   ]
  },
  {
   "cell_type": "code",
   "execution_count": 90,
   "id": "e8083148",
   "metadata": {},
   "outputs": [
    {
     "name": "stdout",
     "output_type": "stream",
     "text": [
      "[55 42 33 24]\n"
     ]
    }
   ],
   "source": [
    "row = [0,1,2,3]\n",
    "col = [0,1,2,3]\n",
    "ch = [1]\n",
    "kite = dis [ch,row,col]\n",
    "print(kite)"
   ]
  },
  {
   "cell_type": "code",
   "execution_count": null,
   "id": "9a5001cf",
   "metadata": {},
   "outputs": [],
   "source": []
  }
 ],
 "metadata": {
  "kernelspec": {
   "display_name": "Python 3 (ipykernel)",
   "language": "python",
   "name": "python3"
  },
  "language_info": {
   "codemirror_mode": {
    "name": "ipython",
    "version": 3
   },
   "file_extension": ".py",
   "mimetype": "text/x-python",
   "name": "python",
   "nbconvert_exporter": "python",
   "pygments_lexer": "ipython3",
   "version": "3.10.9"
  }
 },
 "nbformat": 4,
 "nbformat_minor": 5
}
