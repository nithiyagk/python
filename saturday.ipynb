{
 "cells": [
  {
   "cell_type": "code",
   "execution_count": null,
   "id": "c7369358",
   "metadata": {},
   "outputs": [],
   "source": [
    "a = 5\n",
    "b = 10\n",
    "c = a + b\n",
    "print(c)"
   ]
  },
  {
   "cell_type": "code",
   "execution_count": null,
   "id": "d17c03d8",
   "metadata": {},
   "outputs": [],
   "source": [
    "c = a - b\n",
    "d = a * b\n",
    "e = a / b\n",
    "print(c)\n",
    "print(d)\n",
    "print(e)"
   ]
  },
  {
   "cell_type": "code",
   "execution_count": null,
   "id": "8be7cac0",
   "metadata": {},
   "outputs": [],
   "source": [
    "a = int(input(\"enter a number\"))\n",
    "b = int(input(\"enter a number\"))\n",
    "c = int (input(\"enter a number\"))\n",
    "if(a>b):\n",
    "    print(\"a is largest\")\n",
    "elif(b>c):\n",
    "    print(\"b is largest\")\n",
    "else:\n",
    "    print(\"c is largest\")"
   ]
  },
  {
   "cell_type": "code",
   "execution_count": null,
   "id": "0e2f00e1",
   "metadata": {},
   "outputs": [],
   "source": [
    "for i in range(10):\n",
    "    print(i)"
   ]
  },
  {
   "cell_type": "code",
   "execution_count": null,
   "id": "4dc111f5",
   "metadata": {},
   "outputs": [],
   "source": [
    "list =['a','b','c']\n",
    "for i in list:\n",
    "    print(i)"
   ]
  },
  {
   "cell_type": "code",
   "execution_count": null,
   "id": "89d35c25",
   "metadata": {},
   "outputs": [],
   "source": [
    "#to print random values (use the header file import random ) we can also mention the numbers we need for that use sample keyword\n",
    "#insted of choice after the random."
   ]
  },
  {
   "cell_type": "code",
   "execution_count": null,
   "id": "cea47283",
   "metadata": {},
   "outputs": [],
   "source": [
    "import random\n",
    "names = [\"nithiya\",\"vino\",\"gokul\",\"lava\",\"jeevetha\",\"sagana\"]\n",
    "print(random.choice(names))#to print the only one random value\n",
    "print(random.sample(names,2))#to print the number of strings we need"
   ]
  },
  {
   "cell_type": "code",
   "execution_count": 17,
   "id": "686acdb4",
   "metadata": {},
   "outputs": [],
   "source": [
    "#DISPLAY HELLO WORLD"
   ]
  },
  {
   "cell_type": "code",
   "execution_count": 18,
   "id": "46b9d084",
   "metadata": {},
   "outputs": [
    {
     "name": "stdout",
     "output_type": "stream",
     "text": [
      "HELLO WORLD\n"
     ]
    }
   ],
   "source": [
    "print(\"HELLO WORLD\")"
   ]
  },
  {
   "cell_type": "code",
   "execution_count": 19,
   "id": "7bd452c1",
   "metadata": {},
   "outputs": [],
   "source": [
    "#GET THE USER INPUT AND PERFORM ADD AND THEM"
   ]
  },
  {
   "cell_type": "code",
   "execution_count": null,
   "id": "ae5bbaf5",
   "metadata": {},
   "outputs": [],
   "source": [
    "a = int(input(\"enter a number:\"))\n",
    "b = int(input(\"enter a number:\"))\n",
    "c = a + b\n",
    "print(\"the su is :\",c)"
   ]
  },
  {
   "cell_type": "code",
   "execution_count": 21,
   "id": "8afe2591",
   "metadata": {},
   "outputs": [],
   "source": [
    "#SWAPP TWO NUMBERS WITHOUT 3RD VARIABLE"
   ]
  },
  {
   "cell_type": "code",
   "execution_count": null,
   "id": "00e28f4a",
   "metadata": {},
   "outputs": [],
   "source": [
    "a = int(input(\"enter a number\"))\n",
    "b = int(input(\"enter a number\"))\n",
    "#swapping the numbers\n",
    "a = a + b\n",
    "b = a - b\n",
    "a = a - b\n",
    "print(\"after swapping the numbers:\",a,b)"
   ]
  },
  {
   "cell_type": "code",
   "execution_count": 29,
   "id": "c1f6d8d9",
   "metadata": {},
   "outputs": [],
   "source": [
    "# CONVERT THE ENTERED KILOMETER(CONVERTION FACTOR=0.621371) "
   ]
  },
  {
   "cell_type": "code",
   "execution_count": null,
   "id": "c3861964",
   "metadata": {},
   "outputs": [],
   "source": [
    "a = int(input(\"enter the kilometer\"))\n"
   ]
  },
  {
   "cell_type": "code",
   "execution_count": 31,
   "id": "95cfc4b4",
   "metadata": {},
   "outputs": [],
   "source": [
    "#CHECK TH GIVEN NUMBER IS POSITIVE OR NEGATIVE OR ZERO"
   ]
  },
  {
   "cell_type": "code",
   "execution_count": null,
   "id": "af0b6cff",
   "metadata": {},
   "outputs": [],
   "source": [
    "num = int(input(\"enter a number\"))\n",
    "if (num == 0):\n",
    "    print(\"the number is zero\")\n",
    "elif(num > 0 and num < 1000):\n",
    "    print(\"the number is the positive number\")\n",
    "else :\n",
    "    print(\"the number is the negative number\")"
   ]
  },
  {
   "cell_type": "code",
   "execution_count": 35,
   "id": "cbba5e41",
   "metadata": {},
   "outputs": [],
   "source": [
    "#CHECK THE ENTERED YEAR IS LEAP YEAR OR NOT"
   ]
  },
  {
   "cell_type": "code",
   "execution_count": null,
   "id": "0cd5b74e",
   "metadata": {},
   "outputs": [],
   "source": [
    "year = int(input(\"enter a year\"))\n",
    "if (year % 4 == 0 or year % 400 == 0 ):\n",
    "    print(\"it is a leap year\")\n",
    "else:\n",
    "    print(\"it is not a leap year\")"
   ]
  },
  {
   "cell_type": "code",
   "execution_count": 38,
   "id": "3a8d8756",
   "metadata": {},
   "outputs": [],
   "source": [
    "# DISPLAY THE NUMBER WITH THE GIVEN INTERVAL"
   ]
  },
  {
   "cell_type": "code",
   "execution_count": null,
   "id": "5849e34c",
   "metadata": {},
   "outputs": [],
   "source": [
    "a = int(input(\"enter the last number\"))\n",
    "for i in range(0,a):\n",
    "    print(i)"
   ]
  },
  {
   "cell_type": "code",
   "execution_count": 5,
   "id": "22d796ae",
   "metadata": {},
   "outputs": [],
   "source": [
    "# FIBNACCI SEQUENCES UP TO N_TH TERM"
   ]
  },
  {
   "cell_type": "code",
   "execution_count": null,
   "id": "96e67291",
   "metadata": {},
   "outputs": [],
   "source": [
    "n = int(input(\"enter the  number:\"))\n",
    "first = 0\n",
    "second = 1\n",
    "third = 0\n",
    "i = 0\n",
    "while(i < n):\n",
    "    third = first + second\n",
    "    i = i + 1\n",
    "    first = second\n",
    "    second = third\n",
    "    print(third)"
   ]
  },
  {
   "cell_type": "code",
   "execution_count": 1,
   "id": "ffb637e6",
   "metadata": {},
   "outputs": [],
   "source": [
    "# 6.5.23\n",
    "#saturday"
   ]
  },
  {
   "cell_type": "code",
   "execution_count": 5,
   "id": "742ba1ae",
   "metadata": {},
   "outputs": [
    {
     "data": {
      "text/plain": [
       "[34, 45]"
      ]
     },
     "execution_count": 5,
     "metadata": {},
     "output_type": "execute_result"
    }
   ],
   "source": [
    "arr = [ 12 , 23, ['a',['b'],'c'], 34 ,45,65,67, 78]\n",
    "arr[3:5]\n"
   ]
  },
  {
   "cell_type": "code",
   "execution_count": 53,
   "id": "396389ca",
   "metadata": {},
   "outputs": [
    {
     "data": {
      "text/plain": [
       "[78, 67, 65, 45, 34, ['a', ['b'], 'c'], 23, 12]"
      ]
     },
     "execution_count": 53,
     "metadata": {},
     "output_type": "execute_result"
    }
   ],
   "source": [
    "arr[::-1]"
   ]
  },
  {
   "cell_type": "code",
   "execution_count": 7,
   "id": "0fc6a170",
   "metadata": {},
   "outputs": [
    {
     "data": {
      "text/plain": [
       "['b']"
      ]
     },
     "execution_count": 7,
     "metadata": {},
     "output_type": "execute_result"
    }
   ],
   "source": [
    "arr[2][1]"
   ]
  },
  {
   "cell_type": "code",
   "execution_count": 33,
   "id": "04f6083f",
   "metadata": {},
   "outputs": [
    {
     "data": {
      "text/plain": [
       "[12, 23, ['a', ['b'], 'c'], 34, 45, 65, 67]"
      ]
     },
     "execution_count": 33,
     "metadata": {},
     "output_type": "execute_result"
    }
   ],
   "source": [
    "arr[-8:-1]"
   ]
  },
  {
   "cell_type": "code",
   "execution_count": 42,
   "id": "1b38f520",
   "metadata": {},
   "outputs": [
    {
     "data": {
      "text/plain": [
       "'b'"
      ]
     },
     "execution_count": 42,
     "metadata": {},
     "output_type": "execute_result"
    }
   ],
   "source": [
    "li = [1,2,['a',['b','c'],'d'],4,5,[1,[14,[23,'q',[4,'l']],2],8],6,7,8]\n",
    "li[2][1][0]"
   ]
  },
  {
   "cell_type": "code",
   "execution_count": 47,
   "id": "9dc9f3bf",
   "metadata": {},
   "outputs": [
    {
     "data": {
      "text/plain": [
       "'q'"
      ]
     },
     "execution_count": 47,
     "metadata": {},
     "output_type": "execute_result"
    }
   ],
   "source": [
    "li[5][1][1][1]"
   ]
  },
  {
   "cell_type": "code",
   "execution_count": 52,
   "id": "225f1588",
   "metadata": {},
   "outputs": [
    {
     "data": {
      "text/plain": [
       "'l'"
      ]
     },
     "execution_count": 52,
     "metadata": {},
     "output_type": "execute_result"
    }
   ],
   "source": [
    "li[5][1][1][2][1]"
   ]
  },
  {
   "cell_type": "code",
   "execution_count": 60,
   "id": "fa69452d",
   "metadata": {},
   "outputs": [
    {
     "data": {
      "text/plain": [
       "'ll'"
      ]
     },
     "execution_count": 60,
     "metadata": {},
     "output_type": "execute_result"
    }
   ],
   "source": [
    "li = [1,2,['a',['b','c'],'d'],4,5,[1,[14,[23,'q',[4,'l']],2],8],6,7,8,\"hello\",\"world\",[2,[\"avengers\"],3]]\n",
    "li[9][2:4]"
   ]
  },
  {
   "cell_type": "code",
   "execution_count": 63,
   "id": "83415a1f",
   "metadata": {},
   "outputs": [
    {
     "data": {
      "text/plain": [
       "'orl'"
      ]
     },
     "execution_count": 63,
     "metadata": {},
     "output_type": "execute_result"
    }
   ],
   "source": [
    "li[10][1:4]"
   ]
  },
  {
   "cell_type": "code",
   "execution_count": 79,
   "id": "091f6199",
   "metadata": {},
   "outputs": [
    {
     "data": {
      "text/plain": [
       "'engers'"
      ]
     },
     "execution_count": 79,
     "metadata": {},
     "output_type": "execute_result"
    }
   ],
   "source": [
    "li[11][1][0][2:]"
   ]
  },
  {
   "cell_type": "code",
   "execution_count": 82,
   "id": "fc67efb9",
   "metadata": {},
   "outputs": [
    {
     "name": "stdout",
     "output_type": "stream",
     "text": [
      "[1, 2, ['a', ['b', 'c'], 'd'], 4, 5, [1, [14, [23, 'q', [4, 'l']], 2], 8], 6, 7, 8, 'hello', 'world', [2, ['avengers'], 3], 24, 24]\n"
     ]
    }
   ],
   "source": [
    "li.append(24)\n",
    "print(li)"
   ]
  },
  {
   "cell_type": "code",
   "execution_count": 83,
   "id": "cd3e2fee",
   "metadata": {},
   "outputs": [
    {
     "name": "stdout",
     "output_type": "stream",
     "text": [
      "[1, 2, ['a', ['b', 'c'], 'd'], 4, 5, [1, [14, [23, 'q', [4, 'l']], 2], 8], 6, 7, 8, 'hello', 'world', [2, ['avengers'], 3], 24, 24, 94]\n"
     ]
    }
   ],
   "source": [
    "li.append(94)\n",
    "print(li)"
   ]
  },
  {
   "cell_type": "code",
   "execution_count": 84,
   "id": "4123f031",
   "metadata": {},
   "outputs": [
    {
     "data": {
      "text/plain": [
       "1"
      ]
     },
     "execution_count": 84,
     "metadata": {},
     "output_type": "execute_result"
    }
   ],
   "source": [
    "li.count(8)"
   ]
  },
  {
   "cell_type": "code",
   "execution_count": 86,
   "id": "620b3747",
   "metadata": {},
   "outputs": [
    {
     "data": {
      "text/plain": [
       "4"
      ]
     },
     "execution_count": 86,
     "metadata": {},
     "output_type": "execute_result"
    }
   ],
   "source": [
    "li = [1,2,3,2,4,6,3,3,4,6,6,6,7,5,3,5,7,8,5,4,58,4,458,3,38,3,8,45,8,34]\n",
    "li.count(6)"
   ]
  },
  {
   "cell_type": "code",
   "execution_count": 90,
   "id": "b6a45126",
   "metadata": {},
   "outputs": [
    {
     "data": {
      "text/plain": [
       "3"
      ]
     },
     "execution_count": 90,
     "metadata": {},
     "output_type": "execute_result"
    }
   ],
   "source": [
    "li.count(8)"
   ]
  },
  {
   "cell_type": "code",
   "execution_count": 89,
   "id": "0cff78ff",
   "metadata": {},
   "outputs": [
    {
     "data": {
      "text/plain": [
       "6"
      ]
     },
     "execution_count": 89,
     "metadata": {},
     "output_type": "execute_result"
    }
   ],
   "source": [
    "li.count(3)"
   ]
  },
  {
   "cell_type": "code",
   "execution_count": 91,
   "id": "cb3c8084",
   "metadata": {},
   "outputs": [],
   "source": [
    "# lambda function\n",
    "# syntax --> lambda arguments : expression"
   ]
  },
  {
   "cell_type": "code",
   "execution_count": 96,
   "id": "5abb10f6",
   "metadata": {},
   "outputs": [
    {
     "data": {
      "text/plain": [
       "20"
      ]
     },
     "execution_count": 96,
     "metadata": {},
     "output_type": "execute_result"
    }
   ],
   "source": [
    "n = lambda a , b, c : a + b**c\n",
    "n(4,4,2)"
   ]
  },
  {
   "cell_type": "code",
   "execution_count": null,
   "id": "19ea9eef",
   "metadata": {},
   "outputs": [],
   "source": [
    " x = lambda a , b : a + b , a - b   "
   ]
  },
  {
   "cell_type": "code",
   "execution_count": null,
   "id": "9a5ba7dc",
   "metadata": {},
   "outputs": [],
   "source": [
    "a = int(input(\"enter the number\"))\n",
    "for i in range(11):\n",
    "    x =a * i \n",
    "    print(a , '*', i ,'=',x)\n",
    "    i = i + 1\n",
    "    \n",
    "        "
   ]
  },
  {
   "cell_type": "code",
   "execution_count": null,
   "id": "84c89634",
   "metadata": {},
   "outputs": [],
   "source": [
    "# functions"
   ]
  },
  {
   "cell_type": "code",
   "execution_count": 138,
   "id": "f6027702",
   "metadata": {},
   "outputs": [],
   "source": [
    "# syntax\n",
    "# def function_name (parameters):\n",
    "    "
   ]
  },
  {
   "cell_type": "code",
   "execution_count": 139,
   "id": "e80670af",
   "metadata": {},
   "outputs": [],
   "source": [
    "# function with no argument and no return type"
   ]
  },
  {
   "cell_type": "code",
   "execution_count": null,
   "id": "cde422a0",
   "metadata": {},
   "outputs": [],
   "source": [
    "def hello():\n",
    "    print(\"welcome to python programming\")\n",
    "hello()    "
   ]
  },
  {
   "cell_type": "code",
   "execution_count": 141,
   "id": "e512a01c",
   "metadata": {},
   "outputs": [],
   "source": [
    "# function with argument and no return type"
   ]
  },
  {
   "cell_type": "code",
   "execution_count": null,
   "id": "51a4f116",
   "metadata": {},
   "outputs": [],
   "source": [
    "def add(a,b):\n",
    "    c = a + b\n",
    "    print(\"the sum is:\",c)\n",
    "a = int(input(\"enter a number\"))\n",
    "b = int(input(\"enter a number\"))\n",
    "add(a,b)"
   ]
  },
  {
   "cell_type": "code",
   "execution_count": 147,
   "id": "22fd8f77",
   "metadata": {},
   "outputs": [],
   "source": [
    "# function with no arguments and return type"
   ]
  },
  {
   "cell_type": "code",
   "execution_count": null,
   "id": "9e8d1a69",
   "metadata": {},
   "outputs": [],
   "source": [
    "def sum ():\n",
    "    x = m + n\n",
    "    return(x)\n",
    "m = int(input(\"enter  a number\"))\n",
    "n = int(input(\"enter a number\"))\n",
    "x = sum()\n",
    "print(\"the result is:\",x)\n",
    "    "
   ]
  },
  {
   "cell_type": "code",
   "execution_count": 150,
   "id": "759aac6a",
   "metadata": {},
   "outputs": [],
   "source": [
    "# function with argument and return type"
   ]
  },
  {
   "cell_type": "code",
   "execution_count": 165,
   "id": "25895f90",
   "metadata": {},
   "outputs": [],
   "source": [
    "# factorial of a number"
   ]
  },
  {
   "cell_type": "code",
   "execution_count": null,
   "id": "300e56e1",
   "metadata": {},
   "outputs": [],
   "source": [
    "def fact(n):\n",
    "    fact = 1\n",
    "    for i in range(1,n+1):\n",
    "        fact = fact * i\n",
    "    return(fact)\n",
    "n = int(input(\"enter a number :\"))\n",
    "fact =fact(n)\n",
    "print(\"the factorial of the number\",n ,\"is\",fact)"
   ]
  },
  {
   "cell_type": "code",
   "execution_count": 1,
   "id": "3652137a",
   "metadata": {},
   "outputs": [],
   "source": [
    "# 20.05.23\n",
    " #SATURDAY"
   ]
  },
  {
   "cell_type": "code",
   "execution_count": 3,
   "id": "bcf278c5",
   "metadata": {},
   "outputs": [
    {
     "name": "stdout",
     "output_type": "stream",
     "text": [
      "200\n"
     ]
    }
   ],
   "source": [
    "class mul:\n",
    "    a = 10\n",
    "    b = 20\n",
    "    c = a * b\n",
    "res = mul()\n",
    "print(res.c)"
   ]
  },
  {
   "cell_type": "code",
   "execution_count": 4,
   "id": "f08f7947",
   "metadata": {},
   "outputs": [
    {
     "name": "stdout",
     "output_type": "stream",
     "text": [
      "5.0\n"
     ]
    }
   ],
   "source": [
    "class div:\n",
    "    a = 15\n",
    "    b = 3\n",
    "    c = a / b\n",
    "num1 = div()\n",
    "print(num1.c)"
   ]
  },
  {
   "cell_type": "code",
   "execution_count": 12,
   "id": "b0da26f2",
   "metadata": {},
   "outputs": [
    {
     "name": "stdout",
     "output_type": "stream",
     "text": [
      "nithiya 15\n"
     ]
    }
   ],
   "source": [
    "class person(object):\n",
    "   - def __init__ (self,name,id):\n",
    "        self.name = name\n",
    "        self.id = id\n",
    "    def display(self):\n",
    "        print(self.name,self.id)\n",
    "emp =person(\"nithiya\",15)\n",
    "emp.display()"
   ]
  },
  {
   "cell_type": "code",
   "execution_count": null,
   "id": "2e2db9a8",
   "metadata": {},
   "outputs": [],
   "source": [
    "class man:\n",
    "    def __"
   ]
  },
  {
   "cell_type": "code",
   "execution_count": 13,
   "id": "30f6d8ab",
   "metadata": {},
   "outputs": [
    {
     "name": "stdout",
     "output_type": "stream",
     "text": [
      "Requirement already satisfied: numpy in c:\\users\\nithiyagokulavasagi\\anaconda3\\lib\\site-packages (1.23.5)\n",
      "Note: you may need to restart the kernel to use updated packages.\n"
     ]
    },
    {
     "name": "stderr",
     "output_type": "stream",
     "text": [
      "WARNING: There was an error checking the latest version of pip.\n"
     ]
    }
   ],
   "source": [
    "pip install numpy\n"
   ]
  },
  {
   "cell_type": "code",
   "execution_count": 15,
   "id": "2ece8a68",
   "metadata": {},
   "outputs": [],
   "source": [
    "import numpy as np"
   ]
  },
  {
   "cell_type": "code",
   "execution_count": 17,
   "id": "a0fab96a",
   "metadata": {},
   "outputs": [
    {
     "data": {
      "text/plain": [
       "dtype('int32')"
      ]
     },
     "execution_count": 17,
     "metadata": {},
     "output_type": "execute_result"
    }
   ],
   "source": [
    "array=np.array([1,2,3,4])\n",
    "array .dtype\n",
    "\n"
   ]
  },
  {
   "cell_type": "code",
   "execution_count": 18,
   "id": "764e0212",
   "metadata": {},
   "outputs": [
    {
     "data": {
      "text/plain": [
       "array([1, 2, 3, 4])"
      ]
     },
     "execution_count": 18,
     "metadata": {},
     "output_type": "execute_result"
    }
   ],
   "source": [
    "array=np.array([1,2,3,4])\n",
    "array"
   ]
  },
  {
   "cell_type": "raw",
   "id": "db152de4",
   "metadata": {},
   "source": []
  },
  {
   "cell_type": "code",
   "execution_count": 20,
   "id": "c9397f8a",
   "metadata": {},
   "outputs": [
    {
     "data": {
      "text/plain": [
       "3"
      ]
     },
     "execution_count": 20,
     "metadata": {},
     "output_type": "execute_result"
    }
   ],
   "source": [
    "array.argmax()  #prints the index max value"
   ]
  },
  {
   "cell_type": "code",
   "execution_count": 21,
   "id": "b5600b89",
   "metadata": {},
   "outputs": [
    {
     "data": {
      "text/plain": [
       "0"
      ]
     },
     "execution_count": 21,
     "metadata": {},
     "output_type": "execute_result"
    }
   ],
   "source": [
    "array.argmin()"
   ]
  },
  {
   "cell_type": "code",
   "execution_count": 22,
   "id": "e0fdb8ea",
   "metadata": {},
   "outputs": [
    {
     "data": {
      "text/plain": [
       "4"
      ]
     },
     "execution_count": 22,
     "metadata": {},
     "output_type": "execute_result"
    }
   ],
   "source": [
    "array.max()"
   ]
  },
  {
   "cell_type": "code",
   "execution_count": 23,
   "id": "2697344f",
   "metadata": {},
   "outputs": [
    {
     "data": {
      "text/plain": [
       "1"
      ]
     },
     "execution_count": 23,
     "metadata": {},
     "output_type": "execute_result"
    }
   ],
   "source": [
    "array.min()"
   ]
  },
  {
   "cell_type": "code",
   "execution_count": 26,
   "id": "25dde9eb",
   "metadata": {},
   "outputs": [
    {
     "ename": "TypeError",
     "evalue": "sort() got an unexpected keyword argument 'sort'",
     "output_type": "error",
     "traceback": [
      "\u001b[1;31m---------------------------------------------------------------------------\u001b[0m",
      "\u001b[1;31mTypeError\u001b[0m                                 Traceback (most recent call last)",
      "Cell \u001b[1;32mIn[26], line 1\u001b[0m\n\u001b[1;32m----> 1\u001b[0m \u001b[43marray\u001b[49m\u001b[38;5;241;43m.\u001b[39;49m\u001b[43msort\u001b[49m\u001b[43m(\u001b[49m\u001b[43maxis\u001b[49m\u001b[38;5;241;43m=\u001b[39;49m\u001b[38;5;241;43m-\u001b[39;49m\u001b[38;5;241;43m1\u001b[39;49m\u001b[43m,\u001b[49m\u001b[43msort\u001b[49m\u001b[38;5;241;43m=\u001b[39;49m\u001b[38;5;124;43m'\u001b[39;49m\u001b[38;5;124;43mnone\u001b[39;49m\u001b[38;5;124;43m'\u001b[39;49m\u001b[43m,\u001b[49m\u001b[43morder\u001b[49m\u001b[38;5;241;43m=\u001b[39;49m\u001b[38;5;124;43m'\u001b[39;49m\u001b[38;5;124;43mnone\u001b[39;49m\u001b[38;5;124;43m'\u001b[39;49m\u001b[43m)\u001b[49m\n",
      "\u001b[1;31mTypeError\u001b[0m: sort() got an unexpected keyword argument 'sort'"
     ]
    }
   ],
   "source": [
    "array.sort(axis=-1,sort='none',order='none')"
   ]
  },
  {
   "cell_type": "code",
   "execution_count": null,
   "id": "9d3014dc",
   "metadata": {},
   "outputs": [],
   "source": []
  },
  {
   "cell_type": "code",
   "execution_count": null,
   "id": "4d287dc0",
   "metadata": {},
   "outputs": [],
   "source": [
    "arr"
   ]
  },
  {
   "cell_type": "code",
   "execution_count": null,
   "id": "6c3acb98",
   "metadata": {},
   "outputs": [],
   "source": []
  },
  {
   "cell_type": "raw",
   "id": "ba36b296",
   "metadata": {},
   "source": []
  },
  {
   "cell_type": "code",
   "execution_count": null,
   "id": "25448937",
   "metadata": {},
   "outputs": [],
   "source": []
  },
  {
   "cell_type": "code",
   "execution_count": null,
   "id": "3d89f78a",
   "metadata": {},
   "outputs": [],
   "source": []
  },
  {
   "cell_type": "code",
   "execution_count": null,
   "id": "a07456b1",
   "metadata": {},
   "outputs": [],
   "source": [
    "    "
   ]
  },
  {
   "cell_type": "code",
   "execution_count": null,
   "id": "5acfe5ea",
   "metadata": {},
   "outputs": [],
   "source": []
  },
  {
   "cell_type": "code",
   "execution_count": null,
   "id": "ede60ecc",
   "metadata": {},
   "outputs": [],
   "source": [
    "pp"
   ]
  },
  {
   "cell_type": "code",
   "execution_count": null,
   "id": "08dc1761",
   "metadata": {},
   "outputs": [],
   "source": []
  },
  {
   "cell_type": "code",
   "execution_count": null,
   "id": "4f1056b0",
   "metadata": {},
   "outputs": [],
   "source": []
  },
  {
   "cell_type": "code",
   "execution_count": null,
   "id": "9e32f7e7",
   "metadata": {},
   "outputs": [],
   "source": [
    "arr"
   ]
  }
 ],
 "metadata": {
  "kernelspec": {
   "display_name": "Python 3 (ipykernel)",
   "language": "python",
   "name": "python3"
  },
  "language_info": {
   "codemirror_mode": {
    "name": "ipython",
    "version": 3
   },
   "file_extension": ".py",
   "mimetype": "text/x-python",
   "name": "python",
   "nbconvert_exporter": "python",
   "pygments_lexer": "ipython3",
   "version": "3.10.9"
  }
 },
 "nbformat": 4,
 "nbformat_minor": 5
}
