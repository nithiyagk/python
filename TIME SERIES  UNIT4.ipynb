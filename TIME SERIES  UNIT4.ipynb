{
 "cells": [
  {
   "cell_type": "code",
   "execution_count": 1,
   "id": "d7a8c0b6",
   "metadata": {},
   "outputs": [],
   "source": [
    "import numpy as np\n",
    "import pandas as pd"
   ]
  },
  {
   "cell_type": "raw",
   "id": "361fceca",
   "metadata": {},
   "source": [
    "TIME STAMP -> PAR\n",
    "TIME DELTA OR DURATION -> EXACT LENGTH OF TIME\n",
    "TIME INTERVAL AND PERIOD -> LENGTH OF TIME B/W END \n",
    "FINANCIAL MODELING"
   ]
  },
  {
   "cell_type": "code",
   "execution_count": 4,
   "id": "98dd848b",
   "metadata": {},
   "outputs": [],
   "source": [
    "from datetime import datetime # import datetime or dateutil"
   ]
  },
  {
   "cell_type": "code",
   "execution_count": 5,
   "id": "21e4d928",
   "metadata": {},
   "outputs": [
    {
     "data": {
      "text/plain": [
       "datetime.datetime(2023, 3, 3, 0, 0)"
      ]
     },
     "execution_count": 5,
     "metadata": {},
     "output_type": "execute_result"
    }
   ],
   "source": [
    "datetime(year = 2023,month = 3 ,day = 3)"
   ]
  },
  {
   "cell_type": "code",
   "execution_count": 6,
   "id": "313ed60e",
   "metadata": {},
   "outputs": [
    {
     "data": {
      "text/plain": [
       "datetime.datetime(2023, 7, 4, 0, 0)"
      ]
     },
     "execution_count": 6,
     "metadata": {},
     "output_type": "execute_result"
    }
   ],
   "source": [
    "from dateutil import parser\n",
    "date = parser.parse(\"4th july 2023\")\n",
    "date"
   ]
  },
  {
   "cell_type": "code",
   "execution_count": 8,
   "id": "e6c28b03",
   "metadata": {},
   "outputs": [
    {
     "data": {
      "text/plain": [
       "'july'"
      ]
     },
     "execution_count": 8,
     "metadata": {},
     "output_type": "execute_result"
    }
   ],
   "source": [
    "date.strftime(\"july\")"
   ]
  },
  {
   "cell_type": "code",
   "execution_count": 16,
   "id": "bacfd5b3",
   "metadata": {},
   "outputs": [
    {
     "data": {
      "text/plain": [
       "array('2015-07-04', dtype='datetime64[D]')"
      ]
     },
     "execution_count": 16,
     "metadata": {},
     "output_type": "execute_result"
    }
   ],
   "source": [
    "date = np.array('2015-07-04',dtype = np.datetime64)\n",
    "date "
   ]
  },
  {
   "cell_type": "code",
   "execution_count": 17,
   "id": "9a9e0eb7",
   "metadata": {},
   "outputs": [
    {
     "data": {
      "text/plain": [
       "array(['2015-07-04', '2015-07-05', '2015-07-06', '2015-07-07',\n",
       "       '2015-07-08'], dtype='datetime64[D]')"
      ]
     },
     "execution_count": 17,
     "metadata": {},
     "output_type": "execute_result"
    }
   ],
   "source": [
    "date + np.arange(5) # it goes to the next date "
   ]
  },
  {
   "cell_type": "code",
   "execution_count": 18,
   "id": "1dd8e4ad",
   "metadata": {},
   "outputs": [
    {
     "data": {
      "text/plain": [
       "array(['2015-07-04', '2015-07-03', '2015-07-02', '2015-07-01',\n",
       "       '2015-06-30'], dtype='datetime64[D]')"
      ]
     },
     "execution_count": 18,
     "metadata": {},
     "output_type": "execute_result"
    }
   ],
   "source": [
    "date - np.arange(5) # it goes back to the previous month"
   ]
  },
  {
   "cell_type": "code",
   "execution_count": 21,
   "id": "7c94309c",
   "metadata": {},
   "outputs": [
    {
     "data": {
      "text/plain": [
       "numpy.datetime64('2005-03-03')"
      ]
     },
     "execution_count": 21,
     "metadata": {},
     "output_type": "execute_result"
    }
   ],
   "source": [
    "np.datetime64('2005-03-03') # only year month and date formate"
   ]
  },
  {
   "cell_type": "code",
   "execution_count": 22,
   "id": "3b367dcd",
   "metadata": {},
   "outputs": [
    {
     "data": {
      "text/plain": [
       "numpy.datetime64('2005-03-03T12:00')"
      ]
     },
     "execution_count": 22,
     "metadata": {},
     "output_type": "execute_result"
    }
   ],
   "source": [
    "np.datetime64('2005-03-03 12:00' ) "
   ]
  },
  {
   "cell_type": "code",
   "execution_count": 26,
   "id": "6f8cc0d8",
   "metadata": {},
   "outputs": [
    {
     "data": {
      "text/plain": [
       "numpy.datetime64('1970-02-05T07:12:15.577426903040')"
      ]
     },
     "execution_count": 26,
     "metadata": {},
     "output_type": "execute_result"
    }
   ],
   "source": [
    "np.datetime64('2005-03-03 12:56:20', 'ps') "
   ]
  },
  {
   "cell_type": "code",
   "execution_count": 27,
   "id": "facc70dd",
   "metadata": {},
   "outputs": [],
   "source": [
    "# us -> microsecon\n",
    "# ns ->nanoseconds"
   ]
  },
  {
   "cell_type": "code",
   "execution_count": 28,
   "id": "23c439d1",
   "metadata": {},
   "outputs": [],
   "source": [
    "# DATE AND TIME IN PANDAS"
   ]
  },
  {
   "cell_type": "code",
   "execution_count": 35,
   "id": "a7138082",
   "metadata": {},
   "outputs": [
    {
     "data": {
      "text/plain": [
       "Timestamp('2014-07-30 00:00:00')"
      ]
     },
     "execution_count": 35,
     "metadata": {},
     "output_type": "execute_result"
    }
   ],
   "source": [
    "date = pd.to_datetime(\"july 30th  of ,2014\")\n",
    "date  # it is better than numpy for date time"
   ]
  },
  {
   "cell_type": "code",
   "execution_count": 36,
   "id": "b3a3e9e4",
   "metadata": {},
   "outputs": [
    {
     "data": {
      "text/plain": [
       "'Wednesday'"
      ]
     },
     "execution_count": 36,
     "metadata": {},
     "output_type": "execute_result"
    }
   ],
   "source": [
    "date.strftime('%A')"
   ]
  },
  {
   "cell_type": "code",
   "execution_count": 41,
   "id": "52c3b453",
   "metadata": {},
   "outputs": [
    {
     "data": {
      "text/plain": [
       "DatetimeIndex(['2014-07-30', '2014-07-31', '2014-08-01', '2014-08-02',\n",
       "               '2014-08-03'],\n",
       "              dtype='datetime64[ns]', freq=None)"
      ]
     },
     "execution_count": 41,
     "metadata": {},
     "output_type": "execute_result"
    }
   ],
   "source": [
    "date + pd.to_timedelta(np.arange(5),'D') # as like numpy we can add some more dates here"
   ]
  },
  {
   "cell_type": "code",
   "execution_count": 42,
   "id": "eb6e9d32",
   "metadata": {},
   "outputs": [],
   "source": [
    "# PANDAS TIME SERIES INDEXING BY TIME"
   ]
  },
  {
   "cell_type": "code",
   "execution_count": 46,
   "id": "cc225d1e",
   "metadata": {},
   "outputs": [
    {
     "data": {
      "text/plain": [
       "2014-01-03    0\n",
       "2015-03-22    1\n",
       "2024-12-31    2\n",
       "2014-06-23    3\n",
       "2014-02-28    4\n",
       "dtype: int64"
      ]
     },
     "execution_count": 46,
     "metadata": {},
     "output_type": "execute_result"
    }
   ],
   "source": [
    "index = pd.DatetimeIndex(['2014-01-03','2015-03-22','2024-12-31','2014-06-23','2014-02-28'])\n",
    "data  = pd.Series([0,1,2,3,4], index = index)\n",
    "data"
   ]
  },
  {
   "cell_type": "code",
   "execution_count": 51,
   "id": "d9b8b60b",
   "metadata": {},
   "outputs": [
    {
     "data": {
      "text/plain": [
       "1"
      ]
     },
     "execution_count": 51,
     "metadata": {},
     "output_type": "execute_result"
    }
   ],
   "source": [
    "data['2015-03-22']"
   ]
  },
  {
   "cell_type": "code",
   "execution_count": 55,
   "id": "11462e1f",
   "metadata": {},
   "outputs": [
    {
     "data": {
      "text/plain": [
       "2024-12-31    2\n",
       "2014-06-23    3\n",
       "2014-02-28    4\n",
       "dtype: int64"
      ]
     },
     "execution_count": 55,
     "metadata": {},
     "output_type": "execute_result"
    }
   ],
   "source": [
    "data[2:]"
   ]
  },
  {
   "cell_type": "code",
   "execution_count": 57,
   "id": "420580d1",
   "metadata": {},
   "outputs": [
    {
     "data": {
      "text/plain": [
       "2015-03-22    1\n",
       "dtype: int64"
      ]
     },
     "execution_count": 57,
     "metadata": {},
     "output_type": "execute_result"
    }
   ],
   "source": [
    "data['2015'] # here we can only acess wih year not with date or day"
   ]
  },
  {
   "cell_type": "code",
   "execution_count": 62,
   "id": "7a2bc440",
   "metadata": {},
   "outputs": [
    {
     "data": {
      "text/plain": [
       "DatetimeIndex(['2015-07-03', '2005-03-03', '2005-03-03', '2005-03-03'], dtype='datetime64[ns]', freq=None)"
      ]
     },
     "execution_count": 62,
     "metadata": {},
     "output_type": "execute_result"
    }
   ],
   "source": [
    "dates = pd.to_datetime([datetime(2015,7,3),'3rd of march,2005','2005-03-03','20050303'])\n",
    "dates # in pandas it can take any form type"
   ]
  },
  {
   "cell_type": "code",
   "execution_count": 64,
   "id": "cef15f16",
   "metadata": {},
   "outputs": [
    {
     "data": {
      "text/plain": [
       "PeriodIndex(['2015-07-03', '2005-03-03', '2005-03-03', '2005-03-03'], dtype='period[D]')"
      ]
     },
     "execution_count": 64,
     "metadata": {},
     "output_type": "execute_result"
    }
   ],
   "source": [
    "dates.to_period('D') # daily frequency"
   ]
  },
  {
   "cell_type": "code",
   "execution_count": 65,
   "id": "285a1a9a",
   "metadata": {},
   "outputs": [
    {
     "data": {
      "text/plain": [
       "TimedeltaIndex(['0 days', '-3774 days', '-3774 days', '-3774 days'], dtype='timedelta64[ns]', freq=None)"
      ]
     },
     "execution_count": 65,
     "metadata": {},
     "output_type": "execute_result"
    }
   ],
   "source": [
    "dates - dates[0] # it show the difference between the dates in days it is also said to be duration"
   ]
  },
  {
   "cell_type": "code",
   "execution_count": 68,
   "id": "5feee4b0",
   "metadata": {},
   "outputs": [
    {
     "data": {
      "text/plain": [
       "DatetimeIndex(['2005-01-03', '2005-01-04', '2005-01-05', '2005-01-06',\n",
       "               '2005-01-07', '2005-01-08', '2005-01-09', '2005-01-10',\n",
       "               '2005-01-11', '2005-01-12',\n",
       "               ...\n",
       "               '2005-09-24', '2005-09-25', '2005-09-26', '2005-09-27',\n",
       "               '2005-09-28', '2005-09-29', '2005-09-30', '2005-10-01',\n",
       "               '2005-10-02', '2005-10-03'],\n",
       "              dtype='datetime64[ns]', length=274, freq='D')"
      ]
     },
     "execution_count": 68,
     "metadata": {},
     "output_type": "execute_result"
    }
   ],
   "source": [
    "pd.date_range('01-03-2005','10-03-2005')"
   ]
  },
  {
   "cell_type": "code",
   "execution_count": 70,
   "id": "3e53293c",
   "metadata": {},
   "outputs": [
    {
     "data": {
      "text/plain": [
       "DatetimeIndex(['2015-07-03', '2015-07-04', '2015-07-05', '2015-07-06',\n",
       "               '2015-07-07'],\n",
       "              dtype='datetime64[ns]', freq='D')"
      ]
     },
     "execution_count": 70,
     "metadata": {},
     "output_type": "execute_result"
    }
   ],
   "source": [
    "pd.date_range('2015-07-03',periods = 5)"
   ]
  },
  {
   "cell_type": "code",
   "execution_count": 73,
   "id": "27b5c262",
   "metadata": {},
   "outputs": [
    {
     "data": {
      "text/plain": [
       "DatetimeIndex(['2015-07-03 00:00:00', '2015-07-03 01:00:00',\n",
       "               '2015-07-03 02:00:00', '2015-07-03 03:00:00',\n",
       "               '2015-07-03 04:00:00'],\n",
       "              dtype='datetime64[ns]', freq='H')"
      ]
     },
     "execution_count": 73,
     "metadata": {},
     "output_type": "execute_result"
    }
   ],
   "source": [
    "pd.date_range('2015-07-03',periods = 5 , freq = 'H')"
   ]
  },
  {
   "cell_type": "code",
   "execution_count": 74,
   "id": "c03ff76b",
   "metadata": {},
   "outputs": [
    {
     "data": {
      "text/plain": [
       "TimedeltaIndex(['0 days 00:00:00', '0 days 01:00:00', '0 days 02:00:00',\n",
       "                '0 days 03:00:00', '0 days 04:00:00'],\n",
       "               dtype='timedelta64[ns]', freq='H')"
      ]
     },
     "execution_count": 74,
     "metadata": {},
     "output_type": "execute_result"
    }
   ],
   "source": [
    "pd.timedelta_range(0,periods = 5 ,freq = 'H' )"
   ]
  },
  {
   "cell_type": "code",
   "execution_count": null,
   "id": "26edc049",
   "metadata": {},
   "outputs": [],
   "source": []
  }
 ],
 "metadata": {
  "kernelspec": {
   "display_name": "Python 3 (ipykernel)",
   "language": "python",
   "name": "python3"
  },
  "language_info": {
   "codemirror_mode": {
    "name": "ipython",
    "version": 3
   },
   "file_extension": ".py",
   "mimetype": "text/x-python",
   "name": "python",
   "nbconvert_exporter": "python",
   "pygments_lexer": "ipython3",
   "version": "3.10.9"
  }
 },
 "nbformat": 4,
 "nbformat_minor": 5
}
