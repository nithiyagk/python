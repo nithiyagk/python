{
 "cells": [
  {
   "cell_type": "code",
   "execution_count": 7,
   "id": "22dac1a6",
   "metadata": {},
   "outputs": [
    {
     "name": "stdout",
     "output_type": "stream",
     "text": [
      "my name is nithiya\n",
      "my age is 15\n"
     ]
    }
   ],
   "source": [
    "class person:\n",
    "    def __init__ (self,name,age):\n",
    "        self.name = name\n",
    "        self.age = age\n",
    "    def introduceyourself(self):\n",
    "        self.name = name\n",
    "        self.age = age\n",
    "        \n",
    "aut = person(\"nithiya\",15)\n",
    "print(\"my name is \" + aut.name)\n",
    "print(\"my age is \" + str(aut.age))    "
   ]
  },
  {
   "cell_type": "code",
   "execution_count": 21,
   "id": "08c86a29",
   "metadata": {},
   "outputs": [
    {
     "ename": "NameError",
     "evalue": "name 'introduceyourself' is not defined",
     "output_type": "error",
     "traceback": [
      "\u001b[1;31m---------------------------------------------------------------------------\u001b[0m",
      "\u001b[1;31mNameError\u001b[0m                                 Traceback (most recent call last)",
      "Cell \u001b[1;32mIn[21], line 1\u001b[0m\n\u001b[1;32m----> 1\u001b[0m auth \u001b[38;5;241m=\u001b[39m \u001b[43mintroduceyourself\u001b[49m(\u001b[38;5;124m\"\u001b[39m\u001b[38;5;124m maths\u001b[39m\u001b[38;5;124m\"\u001b[39m,\u001b[38;5;241m8.00\u001b[39m)\n\u001b[0;32m      2\u001b[0m \u001b[38;5;28mprint\u001b[39m(\u001b[38;5;124m\"\u001b[39m\u001b[38;5;124mi am studying \u001b[39m\u001b[38;5;124m\"\u001b[39m \u001b[38;5;241m+\u001b[39m auth\u001b[38;5;241m.\u001b[39mname)\n",
      "\u001b[1;31mNameError\u001b[0m: name 'introduceyourself' is not defined"
     ]
    }
   ],
   "source": [
    "auth = introduceyourself(\" maths\",8.00)\n",
    "print(\"i am studying \" + auth.name)"
   ]
  },
  {
   "cell_type": "code",
   "execution_count": null,
   "id": "c55fca43",
   "metadata": {},
   "outputs": [],
   "source": []
  },
  {
   "cell_type": "code",
   "execution_count": null,
   "id": "fa73412d",
   "metadata": {},
   "outputs": [],
   "source": []
  }
 ],
 "metadata": {
  "kernelspec": {
   "display_name": "Python 3 (ipykernel)",
   "language": "python",
   "name": "python3"
  },
  "language_info": {
   "codemirror_mode": {
    "name": "ipython",
    "version": 3
   },
   "file_extension": ".py",
   "mimetype": "text/x-python",
   "name": "python",
   "nbconvert_exporter": "python",
   "pygments_lexer": "ipython3",
   "version": "3.10.9"
  }
 },
 "nbformat": 4,
 "nbformat_minor": 5
}
